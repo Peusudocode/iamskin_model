{
 "cells": [
  {
   "cell_type": "markdown",
   "metadata": {},
   "source": [
    "#  從資料庫擷取醫師標記的結果，並將資料的特徵彙整一起，下載圖片至指定資料夾。"
   ]
  },
  {
   "cell_type": "code",
   "execution_count": 18,
   "metadata": {},
   "outputs": [],
   "source": [
    "import pandas\n",
    "import numpy\n",
    "import sklearn\n",
    "import pymysql\n",
    "import matplotlib.pyplot as plt\n",
    "from collections import Counter\n",
    "from sklearn import metrics\n",
    "import requests, pandas\n",
    "from PIL import Image\n",
    "from io import BytesIO\n",
    "import tqdm\n",
    "import os "
   ]
  },
  {
   "cell_type": "markdown",
   "metadata": {},
   "source": [
    "訪問醫師標記的總表，擷取時間 2021/09/22 以前的醫師標記資料，並將「痣」的部份提取出來，同一筆資料一位醫師只能標記一次，形成表格。"
   ]
  },
  {
   "cell_type": "code",
   "execution_count": 19,
   "metadata": {},
   "outputs": [],
   "source": [
    "##  The client of database.\n",
    "connection = pymysql.connect(\n",
    "    host='dermai.clhzpxphx83l.ap-northeast-1.rds.amazonaws.com',\n",
    "    user='admin',\n",
    "    password='dermai_root_1234',\n",
    "    database='moleUp',\n",
    "    charset='utf8'\n",
    ")\n",
    "date = \"'2021-09-22 00:00:00'\"\n",
    "query = \"SELECT * FROM `results` where create_time < {};\".format(date)\n",
    "table = pandas.read_sql(query, connection)\n",
    "table = table.loc[(table['dataset']=='MoleMe')|(table['dataset']=='MoleMe_OA')]\n",
    "doctor = ['leon', 'christine', 'dave', 'eric', 'jack']\n",
    "table = table.loc[[i in doctor for i in table['dr']]]\n",
    "table = table.loc[table['prediction']!='']"
   ]
  },
  {
   "cell_type": "markdown",
   "metadata": {},
   "source": [
    "過濾醫師針對某筆資料進行重複標記的情況"
   ]
  },
  {
   "cell_type": "code",
   "execution_count": 20,
   "metadata": {},
   "outputs": [
    {
     "name": "stdout",
     "output_type": "stream",
     "text": [
      "(4369, 13)\n"
     ]
    },
    {
     "data": {
      "text/html": [
       "<div>\n",
       "<style scoped>\n",
       "    .dataframe tbody tr th:only-of-type {\n",
       "        vertical-align: middle;\n",
       "    }\n",
       "\n",
       "    .dataframe tbody tr th {\n",
       "        vertical-align: top;\n",
       "    }\n",
       "\n",
       "    .dataframe thead th {\n",
       "        text-align: right;\n",
       "    }\n",
       "</style>\n",
       "<table border=\"1\" class=\"dataframe\">\n",
       "  <thead>\n",
       "    <tr style=\"text-align: right;\">\n",
       "      <th></th>\n",
       "      <th>rowid</th>\n",
       "      <th>dataset</th>\n",
       "      <th>image</th>\n",
       "      <th>user_id</th>\n",
       "      <th>image_name</th>\n",
       "      <th>score</th>\n",
       "      <th>prediction</th>\n",
       "      <th>dr</th>\n",
       "      <th>dr_yoe</th>\n",
       "      <th>result</th>\n",
       "      <th>times</th>\n",
       "      <th>create_time</th>\n",
       "      <th>index</th>\n",
       "    </tr>\n",
       "  </thead>\n",
       "  <tbody>\n",
       "    <tr>\n",
       "      <th>4</th>\n",
       "      <td>5</td>\n",
       "      <td>MoleMe_OA</td>\n",
       "      <td>48</td>\n",
       "      <td>U199c77fc82b06db1a0e682abf9ee2507</td>\n",
       "      <td>U199c77fc82b06db1a0e682abf9ee2507-xck3a0b6-201...</td>\n",
       "      <td>0.6862580180168152</td>\n",
       "      <td>Lower</td>\n",
       "      <td>jack</td>\n",
       "      <td>1</td>\n",
       "      <td>higher</td>\n",
       "      <td>2021-06-11 00:57:57</td>\n",
       "      <td>2021-06-11 00:57:57</td>\n",
       "      <td>U199c77fc82b06db1a0e682abf9ee2507-xck3a0b6-201...</td>\n",
       "    </tr>\n",
       "    <tr>\n",
       "      <th>5</th>\n",
       "      <td>6</td>\n",
       "      <td>MoleMe_OA</td>\n",
       "      <td>51</td>\n",
       "      <td>U199c77fc82b06db1a0e682abf9ee2507</td>\n",
       "      <td>U199c77fc82b06db1a0e682abf9ee2507-qexnechh-201...</td>\n",
       "      <td>0.7413929104804993</td>\n",
       "      <td>Lower</td>\n",
       "      <td>jack</td>\n",
       "      <td>1</td>\n",
       "      <td>higher</td>\n",
       "      <td>2021-06-11 00:58:00</td>\n",
       "      <td>2021-06-11 00:58:00</td>\n",
       "      <td>U199c77fc82b06db1a0e682abf9ee2507-qexnechh-201...</td>\n",
       "    </tr>\n",
       "    <tr>\n",
       "      <th>7</th>\n",
       "      <td>17</td>\n",
       "      <td>MoleMe_OA</td>\n",
       "      <td>24072</td>\n",
       "      <td>U175afc1f2d8c4edbbbcb7ce4d866200d</td>\n",
       "      <td>U175afc1f2d8c4edbbbcb7ce4d866200d-5s66phm1-202...</td>\n",
       "      <td>0.9317312836647034</td>\n",
       "      <td>Higher</td>\n",
       "      <td>jack</td>\n",
       "      <td>1</td>\n",
       "      <td>lower</td>\n",
       "      <td>2021-06-25 00:46:28</td>\n",
       "      <td>2021-06-25 00:46:28</td>\n",
       "      <td>U175afc1f2d8c4edbbbcb7ce4d866200d-5s66phm1-202...</td>\n",
       "    </tr>\n",
       "    <tr>\n",
       "      <th>9</th>\n",
       "      <td>19</td>\n",
       "      <td>MoleMe_OA</td>\n",
       "      <td>18164</td>\n",
       "      <td>U771c74f21c1456e4cebc55405bcb5f5b</td>\n",
       "      <td>U771c74f21c1456e4cebc55405bcb5f5b-0f_3m7y2-202...</td>\n",
       "      <td>0.9598649144172668</td>\n",
       "      <td>Higher</td>\n",
       "      <td>jack</td>\n",
       "      <td>1</td>\n",
       "      <td>lower</td>\n",
       "      <td>2021-06-25 00:58:43</td>\n",
       "      <td>2021-06-25 00:58:43</td>\n",
       "      <td>U771c74f21c1456e4cebc55405bcb5f5b-0f_3m7y2-202...</td>\n",
       "    </tr>\n",
       "    <tr>\n",
       "      <th>10</th>\n",
       "      <td>20</td>\n",
       "      <td>MoleMe_OA</td>\n",
       "      <td>18161</td>\n",
       "      <td>U2c0c1a77ebb9ffe0c9a616bae5d3148b</td>\n",
       "      <td>U2c0c1a77ebb9ffe0c9a616bae5d3148b-gyg5v7ut-202...</td>\n",
       "      <td>0.8503648042678833</td>\n",
       "      <td>Higher</td>\n",
       "      <td>jack</td>\n",
       "      <td>1</td>\n",
       "      <td>lower</td>\n",
       "      <td>2021-06-25 00:58:45</td>\n",
       "      <td>2021-06-25 00:58:45</td>\n",
       "      <td>U2c0c1a77ebb9ffe0c9a616bae5d3148b-gyg5v7ut-202...</td>\n",
       "    </tr>\n",
       "  </tbody>\n",
       "</table>\n",
       "</div>"
      ],
      "text/plain": [
       "    rowid    dataset  image                            user_id  \\\n",
       "4       5  MoleMe_OA     48  U199c77fc82b06db1a0e682abf9ee2507   \n",
       "5       6  MoleMe_OA     51  U199c77fc82b06db1a0e682abf9ee2507   \n",
       "7      17  MoleMe_OA  24072  U175afc1f2d8c4edbbbcb7ce4d866200d   \n",
       "9      19  MoleMe_OA  18164  U771c74f21c1456e4cebc55405bcb5f5b   \n",
       "10     20  MoleMe_OA  18161  U2c0c1a77ebb9ffe0c9a616bae5d3148b   \n",
       "\n",
       "                                           image_name               score  \\\n",
       "4   U199c77fc82b06db1a0e682abf9ee2507-xck3a0b6-201...  0.6862580180168152   \n",
       "5   U199c77fc82b06db1a0e682abf9ee2507-qexnechh-201...  0.7413929104804993   \n",
       "7   U175afc1f2d8c4edbbbcb7ce4d866200d-5s66phm1-202...  0.9317312836647034   \n",
       "9   U771c74f21c1456e4cebc55405bcb5f5b-0f_3m7y2-202...  0.9598649144172668   \n",
       "10  U2c0c1a77ebb9ffe0c9a616bae5d3148b-gyg5v7ut-202...  0.8503648042678833   \n",
       "\n",
       "   prediction    dr dr_yoe  result               times         create_time  \\\n",
       "4       Lower  jack      1  higher 2021-06-11 00:57:57 2021-06-11 00:57:57   \n",
       "5       Lower  jack      1  higher 2021-06-11 00:58:00 2021-06-11 00:58:00   \n",
       "7      Higher  jack      1   lower 2021-06-25 00:46:28 2021-06-25 00:46:28   \n",
       "9      Higher  jack      1   lower 2021-06-25 00:58:43 2021-06-25 00:58:43   \n",
       "10     Higher  jack      1   lower 2021-06-25 00:58:45 2021-06-25 00:58:45   \n",
       "\n",
       "                                                index  \n",
       "4   U199c77fc82b06db1a0e682abf9ee2507-xck3a0b6-201...  \n",
       "5   U199c77fc82b06db1a0e682abf9ee2507-qexnechh-201...  \n",
       "7   U175afc1f2d8c4edbbbcb7ce4d866200d-5s66phm1-202...  \n",
       "9   U771c74f21c1456e4cebc55405bcb5f5b-0f_3m7y2-202...  \n",
       "10  U2c0c1a77ebb9ffe0c9a616bae5d3148b-gyg5v7ut-202...  "
      ]
     },
     "execution_count": 20,
     "metadata": {},
     "output_type": "execute_result"
    }
   ],
   "source": [
    "table['index'] = table['image_name'] + table['dr']\n",
    "table = table.drop_duplicates(subset=['index'])\n",
    "print(table.shape)\n",
    "table.head()"
   ]
  },
  {
   "cell_type": "markdown",
   "metadata": {},
   "source": [
    "每一位醫師標記的數量"
   ]
  },
  {
   "cell_type": "code",
   "execution_count": 21,
   "metadata": {},
   "outputs": [
    {
     "name": "stdout",
     "output_type": "stream",
     "text": [
      "'2021-09-22 00:00:00'\n"
     ]
    },
    {
     "data": {
      "text/html": [
       "<div>\n",
       "<style scoped>\n",
       "    .dataframe tbody tr th:only-of-type {\n",
       "        vertical-align: middle;\n",
       "    }\n",
       "\n",
       "    .dataframe tbody tr th {\n",
       "        vertical-align: top;\n",
       "    }\n",
       "\n",
       "    .dataframe thead th {\n",
       "        text-align: right;\n",
       "    }\n",
       "</style>\n",
       "<table border=\"1\" class=\"dataframe\">\n",
       "  <thead>\n",
       "    <tr style=\"text-align: right;\">\n",
       "      <th></th>\n",
       "      <th></th>\n",
       "      <th>rowid</th>\n",
       "      <th>dataset</th>\n",
       "      <th>image</th>\n",
       "      <th>user_id</th>\n",
       "      <th>image_name</th>\n",
       "      <th>score</th>\n",
       "      <th>prediction</th>\n",
       "      <th>dr_yoe</th>\n",
       "      <th>result</th>\n",
       "      <th>times</th>\n",
       "      <th>create_time</th>\n",
       "      <th>index</th>\n",
       "    </tr>\n",
       "    <tr>\n",
       "      <th>month</th>\n",
       "      <th>dr</th>\n",
       "      <th></th>\n",
       "      <th></th>\n",
       "      <th></th>\n",
       "      <th></th>\n",
       "      <th></th>\n",
       "      <th></th>\n",
       "      <th></th>\n",
       "      <th></th>\n",
       "      <th></th>\n",
       "      <th></th>\n",
       "      <th></th>\n",
       "      <th></th>\n",
       "    </tr>\n",
       "  </thead>\n",
       "  <tbody>\n",
       "    <tr>\n",
       "      <th>2021-06</th>\n",
       "      <th>jack</th>\n",
       "      <td>15</td>\n",
       "      <td>15</td>\n",
       "      <td>15</td>\n",
       "      <td>15</td>\n",
       "      <td>15</td>\n",
       "      <td>15</td>\n",
       "      <td>15</td>\n",
       "      <td>15</td>\n",
       "      <td>15</td>\n",
       "      <td>15</td>\n",
       "      <td>15</td>\n",
       "      <td>15</td>\n",
       "    </tr>\n",
       "    <tr>\n",
       "      <th rowspan=\"3\" valign=\"top\">2021-07</th>\n",
       "      <th>dave</th>\n",
       "      <td>38</td>\n",
       "      <td>38</td>\n",
       "      <td>38</td>\n",
       "      <td>38</td>\n",
       "      <td>38</td>\n",
       "      <td>38</td>\n",
       "      <td>38</td>\n",
       "      <td>38</td>\n",
       "      <td>38</td>\n",
       "      <td>38</td>\n",
       "      <td>38</td>\n",
       "      <td>38</td>\n",
       "    </tr>\n",
       "    <tr>\n",
       "      <th>jack</th>\n",
       "      <td>40</td>\n",
       "      <td>40</td>\n",
       "      <td>40</td>\n",
       "      <td>40</td>\n",
       "      <td>40</td>\n",
       "      <td>40</td>\n",
       "      <td>40</td>\n",
       "      <td>40</td>\n",
       "      <td>40</td>\n",
       "      <td>40</td>\n",
       "      <td>40</td>\n",
       "      <td>40</td>\n",
       "    </tr>\n",
       "    <tr>\n",
       "      <th>leon</th>\n",
       "      <td>37</td>\n",
       "      <td>37</td>\n",
       "      <td>37</td>\n",
       "      <td>37</td>\n",
       "      <td>37</td>\n",
       "      <td>37</td>\n",
       "      <td>37</td>\n",
       "      <td>37</td>\n",
       "      <td>37</td>\n",
       "      <td>37</td>\n",
       "      <td>37</td>\n",
       "      <td>37</td>\n",
       "    </tr>\n",
       "    <tr>\n",
       "      <th rowspan=\"3\" valign=\"top\">2021-08</th>\n",
       "      <th>dave</th>\n",
       "      <td>75</td>\n",
       "      <td>75</td>\n",
       "      <td>75</td>\n",
       "      <td>75</td>\n",
       "      <td>75</td>\n",
       "      <td>75</td>\n",
       "      <td>75</td>\n",
       "      <td>75</td>\n",
       "      <td>75</td>\n",
       "      <td>75</td>\n",
       "      <td>75</td>\n",
       "      <td>75</td>\n",
       "    </tr>\n",
       "    <tr>\n",
       "      <th>eric</th>\n",
       "      <td>25</td>\n",
       "      <td>25</td>\n",
       "      <td>25</td>\n",
       "      <td>25</td>\n",
       "      <td>25</td>\n",
       "      <td>25</td>\n",
       "      <td>25</td>\n",
       "      <td>25</td>\n",
       "      <td>25</td>\n",
       "      <td>25</td>\n",
       "      <td>25</td>\n",
       "      <td>25</td>\n",
       "    </tr>\n",
       "    <tr>\n",
       "      <th>leon</th>\n",
       "      <td>1269</td>\n",
       "      <td>1269</td>\n",
       "      <td>1269</td>\n",
       "      <td>1269</td>\n",
       "      <td>1269</td>\n",
       "      <td>1269</td>\n",
       "      <td>1269</td>\n",
       "      <td>1269</td>\n",
       "      <td>1269</td>\n",
       "      <td>1269</td>\n",
       "      <td>1269</td>\n",
       "      <td>1269</td>\n",
       "    </tr>\n",
       "    <tr>\n",
       "      <th rowspan=\"3\" valign=\"top\">2021-09</th>\n",
       "      <th>christine</th>\n",
       "      <td>389</td>\n",
       "      <td>389</td>\n",
       "      <td>389</td>\n",
       "      <td>389</td>\n",
       "      <td>389</td>\n",
       "      <td>389</td>\n",
       "      <td>389</td>\n",
       "      <td>389</td>\n",
       "      <td>389</td>\n",
       "      <td>389</td>\n",
       "      <td>389</td>\n",
       "      <td>389</td>\n",
       "    </tr>\n",
       "    <tr>\n",
       "      <th>dave</th>\n",
       "      <td>73</td>\n",
       "      <td>73</td>\n",
       "      <td>73</td>\n",
       "      <td>73</td>\n",
       "      <td>73</td>\n",
       "      <td>73</td>\n",
       "      <td>73</td>\n",
       "      <td>73</td>\n",
       "      <td>73</td>\n",
       "      <td>73</td>\n",
       "      <td>73</td>\n",
       "      <td>73</td>\n",
       "    </tr>\n",
       "    <tr>\n",
       "      <th>leon</th>\n",
       "      <td>2408</td>\n",
       "      <td>2408</td>\n",
       "      <td>2408</td>\n",
       "      <td>2408</td>\n",
       "      <td>2408</td>\n",
       "      <td>2408</td>\n",
       "      <td>2408</td>\n",
       "      <td>2408</td>\n",
       "      <td>2408</td>\n",
       "      <td>2408</td>\n",
       "      <td>2408</td>\n",
       "      <td>2408</td>\n",
       "    </tr>\n",
       "  </tbody>\n",
       "</table>\n",
       "</div>"
      ],
      "text/plain": [
       "                   rowid  dataset  image  user_id  image_name  score  \\\n",
       "month   dr                                                             \n",
       "2021-06 jack          15       15     15       15          15     15   \n",
       "2021-07 dave          38       38     38       38          38     38   \n",
       "        jack          40       40     40       40          40     40   \n",
       "        leon          37       37     37       37          37     37   \n",
       "2021-08 dave          75       75     75       75          75     75   \n",
       "        eric          25       25     25       25          25     25   \n",
       "        leon        1269     1269   1269     1269        1269   1269   \n",
       "2021-09 christine    389      389    389      389         389    389   \n",
       "        dave          73       73     73       73          73     73   \n",
       "        leon        2408     2408   2408     2408        2408   2408   \n",
       "\n",
       "                   prediction  dr_yoe  result  times  create_time  index  \n",
       "month   dr                                                                \n",
       "2021-06 jack               15      15      15     15           15     15  \n",
       "2021-07 dave               38      38      38     38           38     38  \n",
       "        jack               40      40      40     40           40     40  \n",
       "        leon               37      37      37     37           37     37  \n",
       "2021-08 dave               75      75      75     75           75     75  \n",
       "        eric               25      25      25     25           25     25  \n",
       "        leon             1269    1269    1269   1269         1269   1269  \n",
       "2021-09 christine         389     389     389    389          389    389  \n",
       "        dave               73      73      73     73           73     73  \n",
       "        leon             2408    2408    2408   2408         2408   2408  "
      ]
     },
     "execution_count": 21,
     "metadata": {},
     "output_type": "execute_result"
    }
   ],
   "source": [
    "table['month'] = [str(i).split(\" \")[0][:-3] for i in table['create_time']]\n",
    "print(date)\n",
    "table.groupby(['month', \"dr\"]).count()"
   ]
  },
  {
   "cell_type": "markdown",
   "metadata": {},
   "source": [
    "多位醫師標記進行投票"
   ]
  },
  {
   "cell_type": "code",
   "execution_count": 22,
   "metadata": {},
   "outputs": [
    {
     "name": "stdout",
     "output_type": "stream",
     "text": [
      "(4019, 7)\n"
     ]
    },
    {
     "data": {
      "text/html": [
       "<div>\n",
       "<style scoped>\n",
       "    .dataframe tbody tr th:only-of-type {\n",
       "        vertical-align: middle;\n",
       "    }\n",
       "\n",
       "    .dataframe tbody tr th {\n",
       "        vertical-align: top;\n",
       "    }\n",
       "\n",
       "    .dataframe thead th {\n",
       "        text-align: right;\n",
       "    }\n",
       "</style>\n",
       "<table border=\"1\" class=\"dataframe\">\n",
       "  <thead>\n",
       "    <tr style=\"text-align: right;\">\n",
       "      <th></th>\n",
       "      <th>dataset</th>\n",
       "      <th>image</th>\n",
       "      <th>user_id</th>\n",
       "      <th>image_name</th>\n",
       "      <th>score</th>\n",
       "      <th>prediction</th>\n",
       "      <th>vote</th>\n",
       "    </tr>\n",
       "  </thead>\n",
       "  <tbody>\n",
       "    <tr>\n",
       "      <th>0</th>\n",
       "      <td>MoleMe_OA</td>\n",
       "      <td>48</td>\n",
       "      <td>U199c77fc82b06db1a0e682abf9ee2507</td>\n",
       "      <td>U199c77fc82b06db1a0e682abf9ee2507-xck3a0b6-201...</td>\n",
       "      <td>0.6862580180168152</td>\n",
       "      <td>Lower</td>\n",
       "      <td>higher</td>\n",
       "    </tr>\n",
       "    <tr>\n",
       "      <th>1</th>\n",
       "      <td>MoleMe_OA</td>\n",
       "      <td>51</td>\n",
       "      <td>U199c77fc82b06db1a0e682abf9ee2507</td>\n",
       "      <td>U199c77fc82b06db1a0e682abf9ee2507-qexnechh-201...</td>\n",
       "      <td>0.7413929104804993</td>\n",
       "      <td>Lower</td>\n",
       "      <td>higher</td>\n",
       "    </tr>\n",
       "    <tr>\n",
       "      <th>2</th>\n",
       "      <td>MoleMe_OA</td>\n",
       "      <td>24072</td>\n",
       "      <td>U175afc1f2d8c4edbbbcb7ce4d866200d</td>\n",
       "      <td>U175afc1f2d8c4edbbbcb7ce4d866200d-5s66phm1-202...</td>\n",
       "      <td>0.9317312836647034</td>\n",
       "      <td>Higher</td>\n",
       "      <td>lower</td>\n",
       "    </tr>\n",
       "    <tr>\n",
       "      <th>3</th>\n",
       "      <td>MoleMe_OA</td>\n",
       "      <td>18164</td>\n",
       "      <td>U771c74f21c1456e4cebc55405bcb5f5b</td>\n",
       "      <td>U771c74f21c1456e4cebc55405bcb5f5b-0f_3m7y2-202...</td>\n",
       "      <td>0.9598649144172668</td>\n",
       "      <td>Higher</td>\n",
       "      <td>lower</td>\n",
       "    </tr>\n",
       "    <tr>\n",
       "      <th>4</th>\n",
       "      <td>MoleMe_OA</td>\n",
       "      <td>18161</td>\n",
       "      <td>U2c0c1a77ebb9ffe0c9a616bae5d3148b</td>\n",
       "      <td>U2c0c1a77ebb9ffe0c9a616bae5d3148b-gyg5v7ut-202...</td>\n",
       "      <td>0.8503648042678833</td>\n",
       "      <td>Higher</td>\n",
       "      <td>lower</td>\n",
       "    </tr>\n",
       "  </tbody>\n",
       "</table>\n",
       "</div>"
      ],
      "text/plain": [
       "     dataset  image                            user_id  \\\n",
       "0  MoleMe_OA     48  U199c77fc82b06db1a0e682abf9ee2507   \n",
       "1  MoleMe_OA     51  U199c77fc82b06db1a0e682abf9ee2507   \n",
       "2  MoleMe_OA  24072  U175afc1f2d8c4edbbbcb7ce4d866200d   \n",
       "3  MoleMe_OA  18164  U771c74f21c1456e4cebc55405bcb5f5b   \n",
       "4  MoleMe_OA  18161  U2c0c1a77ebb9ffe0c9a616bae5d3148b   \n",
       "\n",
       "                                          image_name               score  \\\n",
       "0  U199c77fc82b06db1a0e682abf9ee2507-xck3a0b6-201...  0.6862580180168152   \n",
       "1  U199c77fc82b06db1a0e682abf9ee2507-qexnechh-201...  0.7413929104804993   \n",
       "2  U175afc1f2d8c4edbbbcb7ce4d866200d-5s66phm1-202...  0.9317312836647034   \n",
       "3  U771c74f21c1456e4cebc55405bcb5f5b-0f_3m7y2-202...  0.9598649144172668   \n",
       "4  U2c0c1a77ebb9ffe0c9a616bae5d3148b-gyg5v7ut-202...  0.8503648042678833   \n",
       "\n",
       "  prediction    vote  \n",
       "0      Lower  higher  \n",
       "1      Lower  higher  \n",
       "2     Higher   lower  \n",
       "3     Higher   lower  \n",
       "4     Higher   lower  "
      ]
     },
     "execution_count": 22,
     "metadata": {},
     "output_type": "execute_result"
    }
   ],
   "source": [
    "def vote(table):\n",
    "    group = {\n",
    "        \"dataset\":[],\n",
    "        'image':[],\n",
    "        \"user_id\":[],\n",
    "        \"image_name\":[],\n",
    "        \"score\":[],\n",
    "        \"prediction\":[],\n",
    "        \"vote\":[]\n",
    "    }\n",
    "    for i in table['image_name'].unique().tolist():\n",
    "\n",
    "        item = table.loc[table['image_name']==i]\n",
    "\n",
    "        ##  處理標記以外的資訊\n",
    "        group['dataset'] += [item['dataset'].values[0]]\n",
    "        group['image'] += [item['image'].values[0]]\n",
    "        group['user_id'] += [item['user_id'].values[0]]\n",
    "        group['image_name'] += [item['image_name'].values[0]]\n",
    "        group['score'] += [item['score'].values[0]]\n",
    "        group['prediction'] += [item['prediction'].values[0]]\n",
    "        pass\n",
    "\n",
    "        ##  該筆資料有幾位醫師標記\n",
    "        number = len(item['dr'].unique())\n",
    "\n",
    "        ##  一位醫師標記的處理方式\n",
    "        if(number==1):\n",
    "\n",
    "            group['vote'] += [item['result'].item()]\n",
    "            continue\n",
    "\n",
    "        ##  兩位醫師標記的處理方式\n",
    "        if(number==2):\n",
    "\n",
    "            different = len(item['result'].unique())\n",
    "            if(different==2):\n",
    "\n",
    "                group['vote'] += ['unknown']\n",
    "                pass\n",
    "\n",
    "            else:\n",
    "            \n",
    "                group['vote'] += [item['result'].max()]\n",
    "                pass\n",
    "            \n",
    "            continue\n",
    "        \n",
    "        ##  三位醫師標記的處理方式\n",
    "        if(number==3):\n",
    "\n",
    "            different = len(item['result'].unique())\n",
    "            if(different==3):\n",
    "\n",
    "                group['vote'] += ['Unknown']\n",
    "                pass\n",
    "            \n",
    "            if(different==2 or different==1):\n",
    "\n",
    "                group['vote'] += [item['result'].max()]\n",
    "                pass\n",
    "            \n",
    "            continue\n",
    "        \n",
    "        ##  四位醫師標記的處理方式\n",
    "        if(number==4):\n",
    "\n",
    "            print(\"to do list\")\n",
    "            break\n",
    "        \n",
    "        pass\n",
    "\n",
    "    output = pandas.DataFrame(group)\n",
    "    return(output)\n",
    "table = vote(table=table)\n",
    "print(table.shape)\n",
    "table.head()"
   ]
  },
  {
   "cell_type": "code",
   "execution_count": 23,
   "metadata": {},
   "outputs": [],
   "source": [
    "table['prediction'] = table['prediction'].str.lower()\n",
    "table['vote'] = table['vote'].str.lower()"
   ]
  },
  {
   "cell_type": "code",
   "execution_count": 24,
   "metadata": {},
   "outputs": [
    {
     "name": "stdout",
     "output_type": "stream",
     "text": [
      "(3308, 12)\n"
     ]
    },
    {
     "data": {
      "text/html": [
       "<div>\n",
       "<style scoped>\n",
       "    .dataframe tbody tr th:only-of-type {\n",
       "        vertical-align: middle;\n",
       "    }\n",
       "\n",
       "    .dataframe tbody tr th {\n",
       "        vertical-align: top;\n",
       "    }\n",
       "\n",
       "    .dataframe thead th {\n",
       "        text-align: right;\n",
       "    }\n",
       "</style>\n",
       "<table border=\"1\" class=\"dataframe\">\n",
       "  <thead>\n",
       "    <tr style=\"text-align: right;\">\n",
       "      <th></th>\n",
       "      <th>dataset</th>\n",
       "      <th>image</th>\n",
       "      <th>user_id</th>\n",
       "      <th>image_name</th>\n",
       "      <th>score</th>\n",
       "      <th>prediction</th>\n",
       "      <th>vote</th>\n",
       "      <th>mole_size</th>\n",
       "      <th>change</th>\n",
       "      <th>gender</th>\n",
       "      <th>age</th>\n",
       "      <th>period</th>\n",
       "    </tr>\n",
       "  </thead>\n",
       "  <tbody>\n",
       "    <tr>\n",
       "      <th>0</th>\n",
       "      <td>MoleMe_OA</td>\n",
       "      <td>48</td>\n",
       "      <td>U199c77fc82b06db1a0e682abf9ee2507</td>\n",
       "      <td>U199c77fc82b06db1a0e682abf9ee2507-xck3a0b6-201...</td>\n",
       "      <td>0.6862580180168152</td>\n",
       "      <td>lower</td>\n",
       "      <td>higher</td>\n",
       "      <td>None</td>\n",
       "      <td>None</td>\n",
       "      <td>None</td>\n",
       "      <td>None</td>\n",
       "      <td>None</td>\n",
       "    </tr>\n",
       "    <tr>\n",
       "      <th>1</th>\n",
       "      <td>MoleMe_OA</td>\n",
       "      <td>51</td>\n",
       "      <td>U199c77fc82b06db1a0e682abf9ee2507</td>\n",
       "      <td>U199c77fc82b06db1a0e682abf9ee2507-qexnechh-201...</td>\n",
       "      <td>0.7413929104804993</td>\n",
       "      <td>lower</td>\n",
       "      <td>higher</td>\n",
       "      <td>None</td>\n",
       "      <td>None</td>\n",
       "      <td>None</td>\n",
       "      <td>None</td>\n",
       "      <td>None</td>\n",
       "    </tr>\n",
       "    <tr>\n",
       "      <th>2</th>\n",
       "      <td>MoleMe_OA</td>\n",
       "      <td>24072</td>\n",
       "      <td>U175afc1f2d8c4edbbbcb7ce4d866200d</td>\n",
       "      <td>U175afc1f2d8c4edbbbcb7ce4d866200d-5s66phm1-202...</td>\n",
       "      <td>0.9317312836647034</td>\n",
       "      <td>higher</td>\n",
       "      <td>lower</td>\n",
       "      <td>None</td>\n",
       "      <td>None</td>\n",
       "      <td>None</td>\n",
       "      <td>None</td>\n",
       "      <td>None</td>\n",
       "    </tr>\n",
       "    <tr>\n",
       "      <th>3</th>\n",
       "      <td>MoleMe_OA</td>\n",
       "      <td>18164</td>\n",
       "      <td>U771c74f21c1456e4cebc55405bcb5f5b</td>\n",
       "      <td>U771c74f21c1456e4cebc55405bcb5f5b-0f_3m7y2-202...</td>\n",
       "      <td>0.9598649144172668</td>\n",
       "      <td>higher</td>\n",
       "      <td>lower</td>\n",
       "      <td>None</td>\n",
       "      <td>None</td>\n",
       "      <td>None</td>\n",
       "      <td>None</td>\n",
       "      <td>None</td>\n",
       "    </tr>\n",
       "    <tr>\n",
       "      <th>4</th>\n",
       "      <td>MoleMe_OA</td>\n",
       "      <td>18161</td>\n",
       "      <td>U2c0c1a77ebb9ffe0c9a616bae5d3148b</td>\n",
       "      <td>U2c0c1a77ebb9ffe0c9a616bae5d3148b-gyg5v7ut-202...</td>\n",
       "      <td>0.8503648042678833</td>\n",
       "      <td>higher</td>\n",
       "      <td>lower</td>\n",
       "      <td>None</td>\n",
       "      <td>None</td>\n",
       "      <td>None</td>\n",
       "      <td>None</td>\n",
       "      <td>None</td>\n",
       "    </tr>\n",
       "  </tbody>\n",
       "</table>\n",
       "</div>"
      ],
      "text/plain": [
       "     dataset  image                            user_id  \\\n",
       "0  MoleMe_OA     48  U199c77fc82b06db1a0e682abf9ee2507   \n",
       "1  MoleMe_OA     51  U199c77fc82b06db1a0e682abf9ee2507   \n",
       "2  MoleMe_OA  24072  U175afc1f2d8c4edbbbcb7ce4d866200d   \n",
       "3  MoleMe_OA  18164  U771c74f21c1456e4cebc55405bcb5f5b   \n",
       "4  MoleMe_OA  18161  U2c0c1a77ebb9ffe0c9a616bae5d3148b   \n",
       "\n",
       "                                          image_name               score  \\\n",
       "0  U199c77fc82b06db1a0e682abf9ee2507-xck3a0b6-201...  0.6862580180168152   \n",
       "1  U199c77fc82b06db1a0e682abf9ee2507-qexnechh-201...  0.7413929104804993   \n",
       "2  U175afc1f2d8c4edbbbcb7ce4d866200d-5s66phm1-202...  0.9317312836647034   \n",
       "3  U771c74f21c1456e4cebc55405bcb5f5b-0f_3m7y2-202...  0.9598649144172668   \n",
       "4  U2c0c1a77ebb9ffe0c9a616bae5d3148b-gyg5v7ut-202...  0.8503648042678833   \n",
       "\n",
       "  prediction    vote mole_size change gender   age period  \n",
       "0      lower  higher      None   None   None  None   None  \n",
       "1      lower  higher      None   None   None  None   None  \n",
       "2     higher   lower      None   None   None  None   None  \n",
       "3     higher   lower      None   None   None  None   None  \n",
       "4     higher   lower      None   None   None  None   None  "
      ]
     },
     "execution_count": 24,
     "metadata": {},
     "output_type": "execute_result"
    }
   ],
   "source": [
    "table = table.loc[(table['vote']=='lower')|(table['vote']=='higher')]\n",
    "table_label = table.copy()\n",
    "table_label['mole_size'] = None\n",
    "table_label['change'] = None\n",
    "table_label['gender'] = None\n",
    "table_label['age'] = None\n",
    "table_label['period'] = None\n",
    "\n",
    "print(table_label.shape)\n",
    "table_label.head()"
   ]
  },
  {
   "cell_type": "markdown",
   "metadata": {},
   "source": [
    "根據標記資料回頭去資料庫撈取對應的特徵數據，找不到數據要進行回報。"
   ]
  },
  {
   "cell_type": "code",
   "execution_count": 25,
   "metadata": {},
   "outputs": [],
   "source": [
    "connection = pymysql.connect(\n",
    "    host='dermai.clhzpxphx83l.ap-northeast-1.rds.amazonaws.com',\n",
    "    user='admin',\n",
    "    password='dermai_root_1234',\n",
    "    database='ai_tools'\n",
    ")\n",
    "query = \"SELECT * FROM `moleme`;\"\n",
    "table = pandas.read_sql(query, connection)[['user_id', 'timestamp', 'image', 'image_crop', 'mole_size', \"period\", \"change\", \"gender\", \"age\"]]\n",
    "table['mole_size'] = table['mole_size'].replace({\"0\":\"有\",\"1\":\"沒有\"})\n",
    "table['change'] = table['change'].replace({\"0\":\"有\",\"1\":\"沒有\",\"2\":\"不確定\"})\n",
    "table['gender'] = table['gender'].replace({\"0\":\"男性\", \"1\":\"女性\",\"2\":\"不想回答\"})\n",
    "table['age'] = table['age'].replace({\"0\":\"21歲以下\",\"1\":\"21~40歲\", \"2\":\"41~65歲\", \"3\":\"65歲以上\"})\n",
    "table['period'] = table['period'].replace({\"0\":\"一個月內\",'1':\"1個月~1年\", \"2\":\"一年以上\",\"3\":\"不記得\"})"
   ]
  },
  {
   "cell_type": "code",
   "execution_count": 26,
   "metadata": {},
   "outputs": [
    {
     "name": "stdout",
     "output_type": "stream",
     "text": [
      "U199c77fc82b06db1a0e682abf9ee2507-qexnechh-201912041224.jpg : 在 'ai_tools' 表中找不到\n",
      "U175afc1f2d8c4edbbbcb7ce4d866200d-5s66phm1-202106210841.jpg : 在 'ai_tools' 表中找不到\n",
      "U91697d3609acb05d3fb7b4d80cbd2fd1-liwsil2r-202102120729.jpg : 在 'ai_tools' 表中找不到\n",
      "U418f575594159140c83a38c36d17005b-ewecitj9-202102091403.jpg : 在 'ai_tools' 表中找不到\n",
      "U24e7c442227b90edca3d56e93a25e153-uudivg8b-201912030013.jpg : 在 'ai_tools' 表中找不到\n",
      "U0b422be5647ba1727729746117f15173-zvkrjddr-201912031504.jpg : 在 'ai_tools' 表中找不到\n",
      "Ufcdf6a4addd447b96906371ce6159c4c-k69bo7yf-201912031601.jpg : 在 'ai_tools' 表中找不到\n",
      "Uff50decc59b99a00541aba16d0037983-f9i_cbz9-201912040328.jpg : 在 'ai_tools' 表中找不到\n",
      "U68195c800af29063d854fb1aaeca7162-yegh7hz3-201912040618.jpg : 在 'ai_tools' 表中找不到\n",
      "U0f95cc471e7c7b0e75e9fa81ea775f23-dssi37vf-201912041508.jpg : 在 'ai_tools' 表中找不到\n",
      "U1deddd28e7f34cecf5b8b95d072fdd3f-t97yiuiv-201912041602.jpg : 在 'ai_tools' 表中找不到\n",
      "Uefb7dbb3b900105f0b99fda1118030e8-95efm104-201912042332.jpg : 在 'ai_tools' 表中找不到\n",
      "Ucaa6ca15ab272f73d194d6875d548e88-lf6nhrbo-201912261319_crop.jpg : 在 'ai_tools' 表中找不到\n",
      "Ud46275ad0dd8ec7c2366f6110bd08c23-m7t426pb-202002111457_crop.jpg : 在 'ai_tools' 表中找不到\n",
      "U0b422be5647ba1727729746117f15173-zvkrjddr-201912031504_crop.jpg : 在 'ai_tools' 表中找不到\n",
      "Uff50decc59b99a00541aba16d0037983-f9i_cbz9-201912040328_crop.jpg : 在 'ai_tools' 表中找不到\n",
      "U0f95cc471e7c7b0e75e9fa81ea775f23-dssi37vf-201912041508_crop.jpg : 在 'ai_tools' 表中找不到\n",
      "U1deddd28e7f34cecf5b8b95d072fdd3f-t97yiuiv-201912041602_crop.jpg : 在 'ai_tools' 表中找不到\n",
      "Ubc1f25664785845f157954392bb040e8-mqhgnku6-201912041338_crop.jpg : 在 'ai_tools' 表中找不到\n",
      "U24e7c442227b90edca3d56e93a25e153-uudivg8b-201912030013_crop.jpg : 在 'ai_tools' 表中找不到\n",
      "Ufcdf6a4addd447b96906371ce6159c4c-k69bo7yf-201912031601_crop.jpg : 在 'ai_tools' 表中找不到\n",
      "U68195c800af29063d854fb1aaeca7162-yegh7hz3-201912040618_crop.jpg : 在 'ai_tools' 表中找不到\n",
      "Uefb7dbb3b900105f0b99fda1118030e8-95efm104-201912042332_crop.jpg : 在 'ai_tools' 表中找不到\n",
      "Ue03d9c6ea3cf1a76a78ded063ccc2271-vn_kwodu-201912041454_crop.jpg : 在 'ai_tools' 表中找不到\n",
      "U2dfb98d9e7cda065313d1da749666a33-hv1yimqf-201912031530_crop.jpg : 在 'ai_tools' 表中找不到\n",
      "U89b5b0ee11e32b3592c45f2116704251-2rmpxdqv-202002180749_crop.jpg : 在 'ai_tools' 表中找不到\n",
      "U62a401bb6361998eab1f8fbc03c93d36-7gkgs_ql-202003061716_crop.jpg : 在 'ai_tools' 表中找不到\n",
      "Ufa426617e2f702e8f95c6b2bdaf1e52c-pjnifn7g-202004261004_crop.jpg : 在 'ai_tools' 表中找不到\n",
      "Ub68ef2140d20616d6825216266290ecd-t43zqif2-202005021334_crop.jpg : 在 'ai_tools' 表中找不到\n",
      "U73e22a04f95f3c3f11260d14752e3b20-mn44mitt-202109041713_crop.jpg : 在 'ai_tools' 表中找不到\n"
     ]
    }
   ],
   "source": [
    "skip = []\n",
    "find = []\n",
    "for index, item in table_label.iterrows():\n",
    "\n",
    "    a = table.loc[table['image_crop']==item['image_name']]\n",
    "    b = table.loc[table['image']==item['image_name']]\n",
    "    if(a.shape[0]!=0):\n",
    "\n",
    "        table_label.at[index, 'mole_size'] = a['mole_size'].values[0]\n",
    "        table_label.at[index, 'change'] = a['change'].values[0]\n",
    "        table_label.at[index, 'gender'] = a['gender'].values[0]\n",
    "        table_label.at[index, 'age'] = a['age'].values[0]\n",
    "        table_label.at[index, 'period'] = a['period'].values[0]\n",
    "        find += [index]\n",
    "        continue\n",
    "\n",
    "    if(b.shape[0]!=0):\n",
    "\n",
    "        table_label.at[index, 'mole_size'] = b['mole_size'].values[0]\n",
    "        table_label.at[index, 'change'] = b['change'].values[0]\n",
    "        table_label.at[index, 'gender'] = b['gender'].values[0]\n",
    "        table_label.at[index, 'age'] = b['age'].values[0]\n",
    "        table_label.at[index, 'period'] = b['period'].values[0]\n",
    "        find += [index]\n",
    "        continue\n",
    "\n",
    "    print(\"{} : 在 'ai_tools' 表中找不到\".format(item['image_name']))\n",
    "    skip += [index]\n",
    "    pass"
   ]
  },
  {
   "cell_type": "code",
   "execution_count": 27,
   "metadata": {},
   "outputs": [
    {
     "name": "stdout",
     "output_type": "stream",
     "text": [
      "(3278, 12)\n"
     ]
    },
    {
     "data": {
      "text/html": [
       "<div>\n",
       "<style scoped>\n",
       "    .dataframe tbody tr th:only-of-type {\n",
       "        vertical-align: middle;\n",
       "    }\n",
       "\n",
       "    .dataframe tbody tr th {\n",
       "        vertical-align: top;\n",
       "    }\n",
       "\n",
       "    .dataframe thead th {\n",
       "        text-align: right;\n",
       "    }\n",
       "</style>\n",
       "<table border=\"1\" class=\"dataframe\">\n",
       "  <thead>\n",
       "    <tr style=\"text-align: right;\">\n",
       "      <th></th>\n",
       "      <th>dataset</th>\n",
       "      <th>image</th>\n",
       "      <th>user_id</th>\n",
       "      <th>image_name</th>\n",
       "      <th>score</th>\n",
       "      <th>prediction</th>\n",
       "      <th>vote</th>\n",
       "      <th>mole_size</th>\n",
       "      <th>change</th>\n",
       "      <th>gender</th>\n",
       "      <th>age</th>\n",
       "      <th>period</th>\n",
       "    </tr>\n",
       "  </thead>\n",
       "  <tbody>\n",
       "    <tr>\n",
       "      <th>0</th>\n",
       "      <td>MoleMe_OA</td>\n",
       "      <td>48</td>\n",
       "      <td>U199c77fc82b06db1a0e682abf9ee2507</td>\n",
       "      <td>U199c77fc82b06db1a0e682abf9ee2507-xck3a0b6-201...</td>\n",
       "      <td>0.6862580180168152</td>\n",
       "      <td>lower</td>\n",
       "      <td>higher</td>\n",
       "      <td>有</td>\n",
       "      <td>不確定</td>\n",
       "      <td>女性</td>\n",
       "      <td>21~40歲</td>\n",
       "      <td>一年以上</td>\n",
       "    </tr>\n",
       "    <tr>\n",
       "      <th>3</th>\n",
       "      <td>MoleMe_OA</td>\n",
       "      <td>18164</td>\n",
       "      <td>U771c74f21c1456e4cebc55405bcb5f5b</td>\n",
       "      <td>U771c74f21c1456e4cebc55405bcb5f5b-0f_3m7y2-202...</td>\n",
       "      <td>0.9598649144172668</td>\n",
       "      <td>higher</td>\n",
       "      <td>lower</td>\n",
       "      <td>有</td>\n",
       "      <td>有</td>\n",
       "      <td>女性</td>\n",
       "      <td>41~65歲</td>\n",
       "      <td>一年以上</td>\n",
       "    </tr>\n",
       "    <tr>\n",
       "      <th>4</th>\n",
       "      <td>MoleMe_OA</td>\n",
       "      <td>18161</td>\n",
       "      <td>U2c0c1a77ebb9ffe0c9a616bae5d3148b</td>\n",
       "      <td>U2c0c1a77ebb9ffe0c9a616bae5d3148b-gyg5v7ut-202...</td>\n",
       "      <td>0.8503648042678833</td>\n",
       "      <td>higher</td>\n",
       "      <td>lower</td>\n",
       "      <td>有</td>\n",
       "      <td>沒有</td>\n",
       "      <td>男性</td>\n",
       "      <td>21~40歲</td>\n",
       "      <td>一年以上</td>\n",
       "    </tr>\n",
       "    <tr>\n",
       "      <th>6</th>\n",
       "      <td>MoleMe_OA</td>\n",
       "      <td>18124</td>\n",
       "      <td>U91697d3609acb05d3fb7b4d80cbd2fd1</td>\n",
       "      <td>U91697d3609acb05d3fb7b4d80cbd2fd1-wq8tx2y6-202...</td>\n",
       "      <td>0.9538336396217346</td>\n",
       "      <td>higher</td>\n",
       "      <td>lower</td>\n",
       "      <td>沒有</td>\n",
       "      <td>不確定</td>\n",
       "      <td>女性</td>\n",
       "      <td>41~65歲</td>\n",
       "      <td>一年以上</td>\n",
       "    </tr>\n",
       "    <tr>\n",
       "      <th>7</th>\n",
       "      <td>MoleMe_OA</td>\n",
       "      <td>18121</td>\n",
       "      <td>U587ce984ad6f646ea09f75d90057a1af</td>\n",
       "      <td>U587ce984ad6f646ea09f75d90057a1af-tl6475in-202...</td>\n",
       "      <td>0.8612645268440247</td>\n",
       "      <td>higher</td>\n",
       "      <td>lower</td>\n",
       "      <td>有</td>\n",
       "      <td>沒有</td>\n",
       "      <td>男性</td>\n",
       "      <td>41~65歲</td>\n",
       "      <td>一年以上</td>\n",
       "    </tr>\n",
       "  </tbody>\n",
       "</table>\n",
       "</div>"
      ],
      "text/plain": [
       "     dataset  image                            user_id  \\\n",
       "0  MoleMe_OA     48  U199c77fc82b06db1a0e682abf9ee2507   \n",
       "3  MoleMe_OA  18164  U771c74f21c1456e4cebc55405bcb5f5b   \n",
       "4  MoleMe_OA  18161  U2c0c1a77ebb9ffe0c9a616bae5d3148b   \n",
       "6  MoleMe_OA  18124  U91697d3609acb05d3fb7b4d80cbd2fd1   \n",
       "7  MoleMe_OA  18121  U587ce984ad6f646ea09f75d90057a1af   \n",
       "\n",
       "                                          image_name               score  \\\n",
       "0  U199c77fc82b06db1a0e682abf9ee2507-xck3a0b6-201...  0.6862580180168152   \n",
       "3  U771c74f21c1456e4cebc55405bcb5f5b-0f_3m7y2-202...  0.9598649144172668   \n",
       "4  U2c0c1a77ebb9ffe0c9a616bae5d3148b-gyg5v7ut-202...  0.8503648042678833   \n",
       "6  U91697d3609acb05d3fb7b4d80cbd2fd1-wq8tx2y6-202...  0.9538336396217346   \n",
       "7  U587ce984ad6f646ea09f75d90057a1af-tl6475in-202...  0.8612645268440247   \n",
       "\n",
       "  prediction    vote mole_size change gender     age period  \n",
       "0      lower  higher         有    不確定     女性  21~40歲   一年以上  \n",
       "3     higher   lower         有      有     女性  41~65歲   一年以上  \n",
       "4     higher   lower         有     沒有     男性  21~40歲   一年以上  \n",
       "6     higher   lower        沒有    不確定     女性  41~65歲   一年以上  \n",
       "7     higher   lower         有     沒有     男性  41~65歲   一年以上  "
      ]
     },
     "execution_count": 27,
     "metadata": {},
     "output_type": "execute_result"
    }
   ],
   "source": [
    "table_label = table_label.loc[find].copy()\n",
    "print(table_label.shape)\n",
    "table_label.head()"
   ]
  },
  {
   "cell_type": "markdown",
   "metadata": {},
   "source": [
    "下載圖片，發現 'image' 欄位有錯，有些圖片名稱結尾有 '_crop' ，有些沒有，不正常。"
   ]
  },
  {
   "cell_type": "code",
   "execution_count": 28,
   "metadata": {},
   "outputs": [
    {
     "data": {
      "text/html": [
       "<div>\n",
       "<style scoped>\n",
       "    .dataframe tbody tr th:only-of-type {\n",
       "        vertical-align: middle;\n",
       "    }\n",
       "\n",
       "    .dataframe tbody tr th {\n",
       "        vertical-align: top;\n",
       "    }\n",
       "\n",
       "    .dataframe thead th {\n",
       "        text-align: right;\n",
       "    }\n",
       "</style>\n",
       "<table border=\"1\" class=\"dataframe\">\n",
       "  <thead>\n",
       "    <tr style=\"text-align: right;\">\n",
       "      <th></th>\n",
       "      <th>dataset</th>\n",
       "      <th>image</th>\n",
       "      <th>user_id</th>\n",
       "      <th>image_name</th>\n",
       "      <th>score</th>\n",
       "      <th>prediction</th>\n",
       "      <th>vote</th>\n",
       "      <th>mole_size</th>\n",
       "      <th>change</th>\n",
       "      <th>gender</th>\n",
       "      <th>age</th>\n",
       "      <th>period</th>\n",
       "      <th>image_default</th>\n",
       "      <th>image_crop</th>\n",
       "    </tr>\n",
       "  </thead>\n",
       "  <tbody>\n",
       "    <tr>\n",
       "      <th>0</th>\n",
       "      <td>MoleMe_OA</td>\n",
       "      <td>48</td>\n",
       "      <td>U199c77fc82b06db1a0e682abf9ee2507</td>\n",
       "      <td>U199c77fc82b06db1a0e682abf9ee2507-xck3a0b6-201...</td>\n",
       "      <td>0.6862580180168152</td>\n",
       "      <td>lower</td>\n",
       "      <td>higher</td>\n",
       "      <td>有</td>\n",
       "      <td>不確定</td>\n",
       "      <td>女性</td>\n",
       "      <td>21~40歲</td>\n",
       "      <td>一年以上</td>\n",
       "      <td>U199c77fc82b06db1a0e682abf9ee2507-xck3a0b6-201...</td>\n",
       "      <td>U199c77fc82b06db1a0e682abf9ee2507-xck3a0b6-201...</td>\n",
       "    </tr>\n",
       "    <tr>\n",
       "      <th>3</th>\n",
       "      <td>MoleMe_OA</td>\n",
       "      <td>18164</td>\n",
       "      <td>U771c74f21c1456e4cebc55405bcb5f5b</td>\n",
       "      <td>U771c74f21c1456e4cebc55405bcb5f5b-0f_3m7y2-202...</td>\n",
       "      <td>0.9598649144172668</td>\n",
       "      <td>higher</td>\n",
       "      <td>lower</td>\n",
       "      <td>有</td>\n",
       "      <td>有</td>\n",
       "      <td>女性</td>\n",
       "      <td>41~65歲</td>\n",
       "      <td>一年以上</td>\n",
       "      <td>U771c74f21c1456e4cebc55405bcb5f5b-0f_3m7y2-202...</td>\n",
       "      <td>U771c74f21c1456e4cebc55405bcb5f5b-0f_3m7y2-202...</td>\n",
       "    </tr>\n",
       "    <tr>\n",
       "      <th>4</th>\n",
       "      <td>MoleMe_OA</td>\n",
       "      <td>18161</td>\n",
       "      <td>U2c0c1a77ebb9ffe0c9a616bae5d3148b</td>\n",
       "      <td>U2c0c1a77ebb9ffe0c9a616bae5d3148b-gyg5v7ut-202...</td>\n",
       "      <td>0.8503648042678833</td>\n",
       "      <td>higher</td>\n",
       "      <td>lower</td>\n",
       "      <td>有</td>\n",
       "      <td>沒有</td>\n",
       "      <td>男性</td>\n",
       "      <td>21~40歲</td>\n",
       "      <td>一年以上</td>\n",
       "      <td>U2c0c1a77ebb9ffe0c9a616bae5d3148b-gyg5v7ut-202...</td>\n",
       "      <td>U2c0c1a77ebb9ffe0c9a616bae5d3148b-gyg5v7ut-202...</td>\n",
       "    </tr>\n",
       "    <tr>\n",
       "      <th>6</th>\n",
       "      <td>MoleMe_OA</td>\n",
       "      <td>18124</td>\n",
       "      <td>U91697d3609acb05d3fb7b4d80cbd2fd1</td>\n",
       "      <td>U91697d3609acb05d3fb7b4d80cbd2fd1-wq8tx2y6-202...</td>\n",
       "      <td>0.9538336396217346</td>\n",
       "      <td>higher</td>\n",
       "      <td>lower</td>\n",
       "      <td>沒有</td>\n",
       "      <td>不確定</td>\n",
       "      <td>女性</td>\n",
       "      <td>41~65歲</td>\n",
       "      <td>一年以上</td>\n",
       "      <td>U91697d3609acb05d3fb7b4d80cbd2fd1-wq8tx2y6-202...</td>\n",
       "      <td>U91697d3609acb05d3fb7b4d80cbd2fd1-wq8tx2y6-202...</td>\n",
       "    </tr>\n",
       "    <tr>\n",
       "      <th>7</th>\n",
       "      <td>MoleMe_OA</td>\n",
       "      <td>18121</td>\n",
       "      <td>U587ce984ad6f646ea09f75d90057a1af</td>\n",
       "      <td>U587ce984ad6f646ea09f75d90057a1af-tl6475in-202...</td>\n",
       "      <td>0.8612645268440247</td>\n",
       "      <td>higher</td>\n",
       "      <td>lower</td>\n",
       "      <td>有</td>\n",
       "      <td>沒有</td>\n",
       "      <td>男性</td>\n",
       "      <td>41~65歲</td>\n",
       "      <td>一年以上</td>\n",
       "      <td>U587ce984ad6f646ea09f75d90057a1af-tl6475in-202...</td>\n",
       "      <td>U587ce984ad6f646ea09f75d90057a1af-tl6475in-202...</td>\n",
       "    </tr>\n",
       "  </tbody>\n",
       "</table>\n",
       "</div>"
      ],
      "text/plain": [
       "     dataset  image                            user_id  \\\n",
       "0  MoleMe_OA     48  U199c77fc82b06db1a0e682abf9ee2507   \n",
       "3  MoleMe_OA  18164  U771c74f21c1456e4cebc55405bcb5f5b   \n",
       "4  MoleMe_OA  18161  U2c0c1a77ebb9ffe0c9a616bae5d3148b   \n",
       "6  MoleMe_OA  18124  U91697d3609acb05d3fb7b4d80cbd2fd1   \n",
       "7  MoleMe_OA  18121  U587ce984ad6f646ea09f75d90057a1af   \n",
       "\n",
       "                                          image_name               score  \\\n",
       "0  U199c77fc82b06db1a0e682abf9ee2507-xck3a0b6-201...  0.6862580180168152   \n",
       "3  U771c74f21c1456e4cebc55405bcb5f5b-0f_3m7y2-202...  0.9598649144172668   \n",
       "4  U2c0c1a77ebb9ffe0c9a616bae5d3148b-gyg5v7ut-202...  0.8503648042678833   \n",
       "6  U91697d3609acb05d3fb7b4d80cbd2fd1-wq8tx2y6-202...  0.9538336396217346   \n",
       "7  U587ce984ad6f646ea09f75d90057a1af-tl6475in-202...  0.8612645268440247   \n",
       "\n",
       "  prediction    vote mole_size change gender     age period  \\\n",
       "0      lower  higher         有    不確定     女性  21~40歲   一年以上   \n",
       "3     higher   lower         有      有     女性  41~65歲   一年以上   \n",
       "4     higher   lower         有     沒有     男性  21~40歲   一年以上   \n",
       "6     higher   lower        沒有    不確定     女性  41~65歲   一年以上   \n",
       "7     higher   lower         有     沒有     男性  41~65歲   一年以上   \n",
       "\n",
       "                                       image_default  \\\n",
       "0  U199c77fc82b06db1a0e682abf9ee2507-xck3a0b6-201...   \n",
       "3  U771c74f21c1456e4cebc55405bcb5f5b-0f_3m7y2-202...   \n",
       "4  U2c0c1a77ebb9ffe0c9a616bae5d3148b-gyg5v7ut-202...   \n",
       "6  U91697d3609acb05d3fb7b4d80cbd2fd1-wq8tx2y6-202...   \n",
       "7  U587ce984ad6f646ea09f75d90057a1af-tl6475in-202...   \n",
       "\n",
       "                                          image_crop  \n",
       "0  U199c77fc82b06db1a0e682abf9ee2507-xck3a0b6-201...  \n",
       "3  U771c74f21c1456e4cebc55405bcb5f5b-0f_3m7y2-202...  \n",
       "4  U2c0c1a77ebb9ffe0c9a616bae5d3148b-gyg5v7ut-202...  \n",
       "6  U91697d3609acb05d3fb7b4d80cbd2fd1-wq8tx2y6-202...  \n",
       "7  U587ce984ad6f646ea09f75d90057a1af-tl6475in-202...  "
      ]
     },
     "execution_count": 28,
     "metadata": {},
     "output_type": "execute_result"
    }
   ],
   "source": [
    "import re\n",
    "table_label['image_default'] = None\n",
    "table_label['image_crop'] = None\n",
    "for index, item in table_label.iterrows():\n",
    "\n",
    "    if('crop' in item['image_name']):\n",
    "\n",
    "        crop = item['image_name']\n",
    "        default = re.sub(\"_crop\", \"\", item['image_name'])\n",
    "        pass\n",
    "\n",
    "    else:\n",
    "\n",
    "        default = item['image_name']\n",
    "        crop = re.sub(\".jpg\", \"_crop.jpg\", item['image_name'])\n",
    "        pass\n",
    "\n",
    "    table_label.at[index, 'image_default'] = default\n",
    "    table_label.at[index, 'image_crop'] = crop\n",
    "    pass\n",
    "\n",
    "table_label.head()"
   ]
  },
  {
   "cell_type": "code",
   "execution_count": 29,
   "metadata": {},
   "outputs": [],
   "source": [
    "from multiprocessing import Process, Manager\n",
    "def pull(table, thread, output):\n",
    "\n",
    "    output[\"{} thread error term\".format(thread)] = []\n",
    "    folder = 'jpg/'\n",
    "    url = [\"https://reservation.dermai.com.tw/static/media/data/mole/\", \"https://oldmoleme.dermai.com.tw/static/data/\"]\n",
    "    selection = table.loc[table['thread']==thread].reset_index(drop=True).copy()\n",
    "    total = len(selection)\n",
    "    for _, item in tqdm.tqdm(selection.iterrows(), total=total):\n",
    "\n",
    "        os.makedirs(os.path.join(folder, 'default', item['vote']), exist_ok=True)\n",
    "        os.makedirs(os.path.join(folder, 'crop', item['vote']), exist_ok=True)\n",
    "\n",
    "        try:\n",
    "        \n",
    "            source = requests.get(url[0]+item['image_default'], timeout=1)\n",
    "            image = Image.open(BytesIO(source.content))\n",
    "            image.save(os.path.join(folder, 'default', item['vote'], item['image_default']))\n",
    "            # table_label.at[iteration, 'download_default'] = True\n",
    "            pass\n",
    "        \n",
    "        except:\n",
    "        \n",
    "            try:            \n",
    "        \n",
    "                source = requests.get(url[1]+item['image_default'], timeout=1)\n",
    "                image = Image.open(BytesIO(source.content))\n",
    "                image.save(os.path.join(folder, 'default', item['vote'], item['image_default']))\n",
    "                # table_label.at[iteration, 'download_default'] = True\n",
    "                pass\n",
    "        \n",
    "            except:\n",
    "                \n",
    "                output[\"{} thread error term\".format(thread)] += [item['image_default']]\n",
    "                # print(\"Image_default {} download error\".format(item['image_default']))\n",
    "                # table_label.at[iteration, 'download_default'] = False\n",
    "                pass\n",
    "        \n",
    "            pass\n",
    "\n",
    "        try:\n",
    "            \n",
    "            source = requests.get(url[0]+item['image_crop'], timeout=1)\n",
    "            image = Image.open(BytesIO(source.content))\n",
    "            image.save(os.path.join(folder, 'crop', item['vote'], item['image_crop']))\n",
    "            # table_label.at[iteration, 'download_crop'] = True\n",
    "            pass\n",
    "            \n",
    "        except:\n",
    "\n",
    "            try:\n",
    "\n",
    "                source = requests.get(url[1]+item['image_crop'], timeout=1)\n",
    "                image = Image.open(BytesIO(source.content))\n",
    "                image.save(os.path.join(folder, 'crop', item['vote'], item['image_crop']))\n",
    "                # table_label.at[iteration, 'download_crop'] = True\n",
    "                pass\n",
    "\n",
    "            except:\n",
    "\n",
    "                # table_label.at[iteration, 'download_crop'] = False\n",
    "                # print(\"Image_crop {} download error\".format(item['image_crop']))\n",
    "                output[\"{} thread error term\".format(thread)] += [item['image_crop']]\n",
    "                pass\n",
    "\n",
    "            pass\n",
    "\n",
    "        # print(\"The {} thread, {}/{}.\".format(thread, index+1, total))\n",
    "        pass\n",
    "\n",
    "    return"
   ]
  },
  {
   "cell_type": "markdown",
   "metadata": {},
   "source": [
    "用多線程的方法來下載圖片，增加效率。"
   ]
  },
  {
   "cell_type": "code",
   "execution_count": 30,
   "metadata": {},
   "outputs": [
    {
     "name": "stderr",
     "output_type": "stream",
     "text": [
      "100%|██████████| 410/410 [10:53<00:00,  1.59s/it]\n",
      "100%|██████████| 409/409 [10:53<00:00,  1.60s/it]\n",
      "100%|██████████| 410/410 [11:00<00:00,  1.61s/it]\n",
      "100%|██████████| 409/409 [11:04<00:00,  1.63s/it]\n",
      "100%|██████████| 410/410 [11:08<00:00,  1.63s/it]\n",
      "100%|██████████| 410/410 [11:10<00:00,  1.64s/it]\n",
      "100%|██████████| 410/410 [11:12<00:00,  1.64s/it]\n",
      "100%|██████████| 410/410 [11:18<00:00,  1.65s/it]\n"
     ]
    },
    {
     "name": "stdout",
     "output_type": "stream",
     "text": [
      "Finish download process.\n"
     ]
    }
   ],
   "source": [
    "task = {}\n",
    "table_label['thread'] = [i%8+1 for i in range(len(table_label))]\n",
    "error = Manager().dict()\n",
    "for k in table_label['thread'].unique():\n",
    "\n",
    "    task[str(k)] = Process(target=pull, args=[table_label, k, error])\n",
    "    task[str(k)].start()\n",
    "    pass\n",
    "\n",
    "for _, t in task.items():\n",
    "\n",
    "    t.join()\n",
    "    pass\n",
    "\n",
    "print(\"Finish download process.\")"
   ]
  },
  {
   "cell_type": "markdown",
   "metadata": {},
   "source": [
    "下載失敗的圖片回報。"
   ]
  },
  {
   "cell_type": "code",
   "execution_count": 35,
   "metadata": {},
   "outputs": [
    {
     "data": {
      "text/plain": [
       "[['U2f8d6a6f1a9c0cc8408f19ae41b4d3e8-20210525191302.jpg',\n",
       "  'U2fd29069ba08d5465257f6c77e2f9124-ujkjjqsp-202001070841_crop.jpg',\n",
       "  'Udd630ada1853a761d6e829b7a7310a07-9pytl9dk-202004010353_crop.jpg',\n",
       "  'U4720f5c1333dd5822d21549d86ce77ad-kidmxbqg-202004070547_crop.jpg',\n",
       "  'U228972cd267dc029fd5d896a55124e68-fc3me8ak-202003081402_crop.jpg',\n",
       "  'U089884f6516133bf063fe6d40188585b-w7j6lz7q-202004251709_crop.jpg',\n",
       "  'U1a327dd1261955f2df2f4e937d2bd75c-f2jqx4qw-202004260935_crop.jpg'],\n",
       " ['Uaf7edb39af2306001e767335f45a6f2c-g5ufc5xw-202002102155_crop.jpg',\n",
       "  'U4da7212b139ee95059bffa2011e14c6d-inuzpq44-202108220308_crop.jpg',\n",
       "  'Ue9aa7fbf47c39a76471cd2acbdc00d98-hloog38w-202108231249_crop.jpg'],\n",
       " ['U44c6ac71b85da32ec62c88b8e2f5fbf9-6ymf93ra-202001111205.jpg',\n",
       "  'U98ef1d6f7a9fd9fa4dd5b288112fa061-mp2sr6vl-202001160322.jpg',\n",
       "  'U24e7c442227b90edca3d56e93a25e153-dhbqlxcb-201912040210.jpg',\n",
       "  'U3b1f442e69dbfd056db462e11d67f6e6-20210528134139.jpg',\n",
       "  'U00b3844c89a3996609a3ba5846bcbdbb-iv3hcx3x-202004130452.jpg'],\n",
       " ['Ub943fd6e6be245a7b66c1e8802598044-vvevgekq-201912091214.jpg',\n",
       "  'Ua655dd66b0fdcf00588d69e8fe876cde-pz9cu853-201912180717_crop.jpg',\n",
       "  'U8d859005dbfd2372aa60989f9d006837-xnnuw_f0-202001212220.jpg',\n",
       "  'Ue8261a4c266544e5e7e91b5c7bfd2f2c-20210506202046.jpg'],\n",
       " ['fb_2371000176302005_20191219-161954.jpg',\n",
       "  'Uc4607d05b778ba8c2a5572dc77968fcf-20210529211338_crop.jpg',\n",
       "  'U339dcff2c60638a7147745b5b7c43bc2-ncdw806n-202002220844.jpg',\n",
       "  'U8f893d23764be31e95f5a21576645d8c-1k8pqov1-202109061641_crop.jpg',\n",
       "  'U613de6f273516b9dd09f0373d031724d-zdgvmcua-202108311457.jpg'],\n",
       " ['U4313ae42ff2f4a6038c11d4dfb77b38d-8vcamd17-202107211354.jpg',\n",
       "  'Ud4d7687d1f8f1e9544b2a851d557ab8b-20210527231338.jpg',\n",
       "  'fb_2429096623876920_20191220-010213.jpg',\n",
       "  'U65fd5b07dc79eab65ee8edaf237609b4-9mrwe7jd-202107201610.jpg',\n",
       "  'U9bd2739bfc4aca7d2f2b2f49a8f17aa8-lhic3jxk-202108141644_crop.jpg'],\n",
       " ['Ue8261a4c266544e5e7e91b5c7bfd2f2c-20210506202313.jpg',\n",
       "  'U5d79a96143673e297b9a81ece00f1b69-tgd1cxlf-202004251455_crop.jpg'],\n",
       " ['U077ca2aa3576f112098a41cb05a2e546-qiig26g6-201912060724.jpg',\n",
       "  'Ud1189eeea821ec4a7a56be0e013253f8-1gmw83je-202001021424.jpg',\n",
       "  'U0cccfa9a44a9b3f05f937adc47e7fb93-qnarzh1z-202003050732.jpg',\n",
       "  'U91574e09b77d088e48bdd7536922a48d-20210506215413.jpg',\n",
       "  'U949bffce4750fac333616a3d8971e897-k1j5f6y1-202002221429_crop.jpg']]"
      ]
     },
     "execution_count": 35,
     "metadata": {},
     "output_type": "execute_result"
    }
   ],
   "source": [
    "error.values()"
   ]
  },
  {
   "cell_type": "markdown",
   "metadata": {},
   "source": [
    "下載圖片後可能有些圖片下載失敗，需要根據下載圖片的結果更新資料表。"
   ]
  },
  {
   "cell_type": "code",
   "execution_count": 36,
   "metadata": {},
   "outputs": [],
   "source": [
    "table_label['download_crop'] = None\n",
    "pool = os.listdir('jpg/crop/higher') + os.listdir('jpg/crop/lower')\n",
    "for index, item in table_label.iterrows():\n",
    "\n",
    "    if(item['image_crop'] in pool):\n",
    "\n",
    "        table_label.at[index, 'download_crop'] = True\n",
    "        pass\n",
    "\n",
    "    else:\n",
    "    \n",
    "        table_label.at[index, 'download_crop'] = False\n",
    "        pass\n",
    "\n",
    "    pass"
   ]
  },
  {
   "cell_type": "markdown",
   "metadata": {},
   "source": [
    "以圖片名稱當作唯一識別身份，刪除重複的資料。"
   ]
  },
  {
   "cell_type": "code",
   "execution_count": 37,
   "metadata": {},
   "outputs": [
    {
     "name": "stdout",
     "output_type": "stream",
     "text": [
      "3160\n"
     ]
    },
    {
     "data": {
      "text/html": [
       "<div>\n",
       "<style scoped>\n",
       "    .dataframe tbody tr th:only-of-type {\n",
       "        vertical-align: middle;\n",
       "    }\n",
       "\n",
       "    .dataframe tbody tr th {\n",
       "        vertical-align: top;\n",
       "    }\n",
       "\n",
       "    .dataframe thead th {\n",
       "        text-align: right;\n",
       "    }\n",
       "</style>\n",
       "<table border=\"1\" class=\"dataframe\">\n",
       "  <thead>\n",
       "    <tr style=\"text-align: right;\">\n",
       "      <th></th>\n",
       "      <th>dataset</th>\n",
       "      <th>image</th>\n",
       "      <th>user_id</th>\n",
       "      <th>image_name</th>\n",
       "      <th>score</th>\n",
       "      <th>prediction</th>\n",
       "      <th>vote</th>\n",
       "      <th>mole_size</th>\n",
       "      <th>change</th>\n",
       "      <th>gender</th>\n",
       "      <th>age</th>\n",
       "      <th>period</th>\n",
       "      <th>image_default</th>\n",
       "      <th>image_crop</th>\n",
       "      <th>thread</th>\n",
       "      <th>download_crop</th>\n",
       "    </tr>\n",
       "  </thead>\n",
       "  <tbody>\n",
       "    <tr>\n",
       "      <th>0</th>\n",
       "      <td>MoleMe_OA</td>\n",
       "      <td>48</td>\n",
       "      <td>U199c77fc82b06db1a0e682abf9ee2507</td>\n",
       "      <td>U199c77fc82b06db1a0e682abf9ee2507-xck3a0b6-201...</td>\n",
       "      <td>0.6862580180168152</td>\n",
       "      <td>lower</td>\n",
       "      <td>higher</td>\n",
       "      <td>有</td>\n",
       "      <td>不確定</td>\n",
       "      <td>女性</td>\n",
       "      <td>21~40歲</td>\n",
       "      <td>一年以上</td>\n",
       "      <td>U199c77fc82b06db1a0e682abf9ee2507-xck3a0b6-201...</td>\n",
       "      <td>U199c77fc82b06db1a0e682abf9ee2507-xck3a0b6-201...</td>\n",
       "      <td>1</td>\n",
       "      <td>True</td>\n",
       "    </tr>\n",
       "    <tr>\n",
       "      <th>3</th>\n",
       "      <td>MoleMe_OA</td>\n",
       "      <td>18164</td>\n",
       "      <td>U771c74f21c1456e4cebc55405bcb5f5b</td>\n",
       "      <td>U771c74f21c1456e4cebc55405bcb5f5b-0f_3m7y2-202...</td>\n",
       "      <td>0.9598649144172668</td>\n",
       "      <td>higher</td>\n",
       "      <td>lower</td>\n",
       "      <td>有</td>\n",
       "      <td>有</td>\n",
       "      <td>女性</td>\n",
       "      <td>41~65歲</td>\n",
       "      <td>一年以上</td>\n",
       "      <td>U771c74f21c1456e4cebc55405bcb5f5b-0f_3m7y2-202...</td>\n",
       "      <td>U771c74f21c1456e4cebc55405bcb5f5b-0f_3m7y2-202...</td>\n",
       "      <td>2</td>\n",
       "      <td>True</td>\n",
       "    </tr>\n",
       "    <tr>\n",
       "      <th>4</th>\n",
       "      <td>MoleMe_OA</td>\n",
       "      <td>18161</td>\n",
       "      <td>U2c0c1a77ebb9ffe0c9a616bae5d3148b</td>\n",
       "      <td>U2c0c1a77ebb9ffe0c9a616bae5d3148b-gyg5v7ut-202...</td>\n",
       "      <td>0.8503648042678833</td>\n",
       "      <td>higher</td>\n",
       "      <td>lower</td>\n",
       "      <td>有</td>\n",
       "      <td>沒有</td>\n",
       "      <td>男性</td>\n",
       "      <td>21~40歲</td>\n",
       "      <td>一年以上</td>\n",
       "      <td>U2c0c1a77ebb9ffe0c9a616bae5d3148b-gyg5v7ut-202...</td>\n",
       "      <td>U2c0c1a77ebb9ffe0c9a616bae5d3148b-gyg5v7ut-202...</td>\n",
       "      <td>3</td>\n",
       "      <td>True</td>\n",
       "    </tr>\n",
       "    <tr>\n",
       "      <th>6</th>\n",
       "      <td>MoleMe_OA</td>\n",
       "      <td>18124</td>\n",
       "      <td>U91697d3609acb05d3fb7b4d80cbd2fd1</td>\n",
       "      <td>U91697d3609acb05d3fb7b4d80cbd2fd1-wq8tx2y6-202...</td>\n",
       "      <td>0.9538336396217346</td>\n",
       "      <td>higher</td>\n",
       "      <td>lower</td>\n",
       "      <td>沒有</td>\n",
       "      <td>不確定</td>\n",
       "      <td>女性</td>\n",
       "      <td>41~65歲</td>\n",
       "      <td>一年以上</td>\n",
       "      <td>U91697d3609acb05d3fb7b4d80cbd2fd1-wq8tx2y6-202...</td>\n",
       "      <td>U91697d3609acb05d3fb7b4d80cbd2fd1-wq8tx2y6-202...</td>\n",
       "      <td>4</td>\n",
       "      <td>True</td>\n",
       "    </tr>\n",
       "    <tr>\n",
       "      <th>7</th>\n",
       "      <td>MoleMe_OA</td>\n",
       "      <td>18121</td>\n",
       "      <td>U587ce984ad6f646ea09f75d90057a1af</td>\n",
       "      <td>U587ce984ad6f646ea09f75d90057a1af-tl6475in-202...</td>\n",
       "      <td>0.8612645268440247</td>\n",
       "      <td>higher</td>\n",
       "      <td>lower</td>\n",
       "      <td>有</td>\n",
       "      <td>沒有</td>\n",
       "      <td>男性</td>\n",
       "      <td>41~65歲</td>\n",
       "      <td>一年以上</td>\n",
       "      <td>U587ce984ad6f646ea09f75d90057a1af-tl6475in-202...</td>\n",
       "      <td>U587ce984ad6f646ea09f75d90057a1af-tl6475in-202...</td>\n",
       "      <td>5</td>\n",
       "      <td>True</td>\n",
       "    </tr>\n",
       "  </tbody>\n",
       "</table>\n",
       "</div>"
      ],
      "text/plain": [
       "     dataset  image                            user_id  \\\n",
       "0  MoleMe_OA     48  U199c77fc82b06db1a0e682abf9ee2507   \n",
       "3  MoleMe_OA  18164  U771c74f21c1456e4cebc55405bcb5f5b   \n",
       "4  MoleMe_OA  18161  U2c0c1a77ebb9ffe0c9a616bae5d3148b   \n",
       "6  MoleMe_OA  18124  U91697d3609acb05d3fb7b4d80cbd2fd1   \n",
       "7  MoleMe_OA  18121  U587ce984ad6f646ea09f75d90057a1af   \n",
       "\n",
       "                                          image_name               score  \\\n",
       "0  U199c77fc82b06db1a0e682abf9ee2507-xck3a0b6-201...  0.6862580180168152   \n",
       "3  U771c74f21c1456e4cebc55405bcb5f5b-0f_3m7y2-202...  0.9598649144172668   \n",
       "4  U2c0c1a77ebb9ffe0c9a616bae5d3148b-gyg5v7ut-202...  0.8503648042678833   \n",
       "6  U91697d3609acb05d3fb7b4d80cbd2fd1-wq8tx2y6-202...  0.9538336396217346   \n",
       "7  U587ce984ad6f646ea09f75d90057a1af-tl6475in-202...  0.8612645268440247   \n",
       "\n",
       "  prediction    vote mole_size change gender     age period  \\\n",
       "0      lower  higher         有    不確定     女性  21~40歲   一年以上   \n",
       "3     higher   lower         有      有     女性  41~65歲   一年以上   \n",
       "4     higher   lower         有     沒有     男性  21~40歲   一年以上   \n",
       "6     higher   lower        沒有    不確定     女性  41~65歲   一年以上   \n",
       "7     higher   lower         有     沒有     男性  41~65歲   一年以上   \n",
       "\n",
       "                                       image_default  \\\n",
       "0  U199c77fc82b06db1a0e682abf9ee2507-xck3a0b6-201...   \n",
       "3  U771c74f21c1456e4cebc55405bcb5f5b-0f_3m7y2-202...   \n",
       "4  U2c0c1a77ebb9ffe0c9a616bae5d3148b-gyg5v7ut-202...   \n",
       "6  U91697d3609acb05d3fb7b4d80cbd2fd1-wq8tx2y6-202...   \n",
       "7  U587ce984ad6f646ea09f75d90057a1af-tl6475in-202...   \n",
       "\n",
       "                                          image_crop  thread download_crop  \n",
       "0  U199c77fc82b06db1a0e682abf9ee2507-xck3a0b6-201...       1          True  \n",
       "3  U771c74f21c1456e4cebc55405bcb5f5b-0f_3m7y2-202...       2          True  \n",
       "4  U2c0c1a77ebb9ffe0c9a616bae5d3148b-gyg5v7ut-202...       3          True  \n",
       "6  U91697d3609acb05d3fb7b4d80cbd2fd1-wq8tx2y6-202...       4          True  \n",
       "7  U587ce984ad6f646ea09f75d90057a1af-tl6475in-202...       5          True  "
      ]
     },
     "execution_count": 37,
     "metadata": {},
     "output_type": "execute_result"
    }
   ],
   "source": [
    "table_label = table_label.drop_duplicates(subset=['image_crop'])\n",
    "print(len(table_label))\n",
    "table_label.head()"
   ]
  },
  {
   "cell_type": "markdown",
   "metadata": {},
   "source": [
    "定義版本號，儲存表格。"
   ]
  },
  {
   "cell_type": "code",
   "execution_count": 38,
   "metadata": {},
   "outputs": [],
   "source": [
    "folder = \"csv/\"\n",
    "os.makedirs(folder, exist_ok=True)\n",
    "table_label.to_csv(os.path.join(folder, \"global information.csv\"), index=False)\n",
    "table_label.loc[table_label['download_crop']==True].to_csv(os.path.join(folder, \"standard information.csv\"), index=False)"
   ]
  },
  {
   "cell_type": "markdown",
   "metadata": {},
   "source": [
    "呈現一些圖片，用一對一對的方式呈現。"
   ]
  },
  {
   "cell_type": "code",
   "execution_count": 28,
   "metadata": {},
   "outputs": [],
   "source": [
    "import matplotlib.pyplot as plt \n",
    "import PIL.Image\n",
    "def sample(table, index, folder):\n",
    "\n",
    "    item = table.iloc[index,:]\n",
    "    # print(item['vote'].values[0])\n",
    "    link = [\n",
    "        os.path.join(folder, 'default', item['vote'], item['image_default']),\n",
    "        os.path.join(folder, 'crop', item['vote'], item['image_crop'])\n",
    "    ]\n",
    "    default = PIL.Image.open(link[0])\n",
    "    crop = PIL.Image.open(link[1])\n",
    "    pass\n",
    "\n",
    "    fig = plt.figure()\n",
    "    ax = fig.add_subplot(1, 2, 1)\n",
    "    plt.imshow(default)\n",
    "    ax.set_title('Default')\n",
    "    ax.axis(\"off\")\n",
    "    ax = fig.add_subplot(1, 2, 2)\n",
    "    plt.imshow(crop)\n",
    "    ax.set_title('Crop')\n",
    "    ax.axis(\"off\")    \n",
    "    return"
   ]
  },
  {
   "cell_type": "code",
   "execution_count": 29,
   "metadata": {},
   "outputs": [
    {
     "data": {
      "image/png": "[encoded data removed]",
      "text/plain": [
       "<Figure size 432x288 with 2 Axes>"
      ]
     },
     "metadata": {
      "needs_background": "light"
     },
     "output_type": "display_data"
    },
    {
     "data": {
      "image/png": "[encoded data removed]",
      "text/plain": [
       "<Figure size 432x288 with 2 Axes>"
      ]
     },
     "metadata": {
      "needs_background": "light"
     },
     "output_type": "display_data"
    },
    {
     "data": {
      "image/png": "[encoded data removed]",
      "text/plain": [
       "<Figure size 432x288 with 2 Axes>"
      ]
     },
     "metadata": {
      "needs_background": "light"
     },
     "output_type": "display_data"
    },
    {
     "data": {
      "image/png": "[encoded data removed]",
      "text/plain": [
       "<Figure size 432x288 with 2 Axes>"
      ]
     },
     "metadata": {
      "needs_background": "light"
     },
     "output_type": "display_data"
    },
    {
     "data": {
      "image/png": "[encoded data removed]",
      "text/plain": [
       "<Figure size 432x288 with 2 Axes>"
      ]
     },
     "metadata": {
      "needs_background": "light"
     },
     "output_type": "display_data"
    }
   ],
   "source": [
    "for i in range(5):\n",
    "\n",
    "    sample(table_label, i, 'jpg/')\n",
    "    pass"
   ]
  },
  {
   "cell_type": "markdown",
   "metadata": {},
   "source": [
    "---"
   ]
  },
  {
   "cell_type": "code",
   "execution_count": null,
   "metadata": {},
   "outputs": [],
   "source": []
  },
  {
   "cell_type": "markdown",
   "metadata": {},
   "source": [
    "醫師標記過程，會有不同醫師標記同一筆資料的情況，針對這塊採取投票制。但是投票結果如果仍然有歧見，標記為「unknown」。"
   ]
  },
  {
   "cell_type": "code",
   "execution_count": null,
   "metadata": {},
   "outputs": [],
   "source": [
    "    "
   ]
  },
  {
   "cell_type": "code",
   "execution_count": null,
   "metadata": {},
   "outputs": [],
   "source": [
    "item = table.loc[table['image_name']==i]"
   ]
  },
  {
   "cell_type": "code",
   "execution_count": null,
   "metadata": {},
   "outputs": [],
   "source": [
    "item['prediction'].value_counts()"
   ]
  },
  {
   "cell_type": "code",
   "execution_count": null,
   "metadata": {},
   "outputs": [],
   "source": [
    "def filter(table, doctor):\n",
    "    table = table.loc[[i in doctor for i in table['dr']]]\n",
    "    collection = []\n",
    "    for d in doctor:\n",
    "        selection = table.loc[(table['dr']==d)]\n",
    "        if(selection.shape[0]==0):\n",
    "            continue\n",
    "        group = []\n",
    "        for i in set(selection['image_name']):\n",
    "            item = selection.loc[selection['image_name']==i]\n",
    "            item = item.iloc[-1:,:]\n",
    "            # # print(item['image_name'].item())\n",
    "            # if(item['prediction'].isna().item() or item['prediction'].item()==\"\"):  ##  忽略`prediction`有空值的資料\n",
    "            #     print(\"row_id {}的`prediction`有空值的資料\".format(item['rowid'].item()))\n",
    "            #     print(\"標記結果{}，標記醫師{}\".format(item['result'].item(), item['dr'].item()))\n",
    "            #     continue\n",
    "            item = item[['dataset' ,'user_id', 'image_name','prediction','create_time', 'result', 'dr', 'score']].copy()\n",
    "            group += [item]\n",
    "            pass\n",
    "        group = pandas.concat(group)\n",
    "        collection += [group]\n",
    "        pass\n",
    "    collection = pandas.concat(collection).reset_index(drop=True)\n",
    "    image = []\n",
    "    for _, item in collection.iterrows():\n",
    "        if('crop' not in item['image_name']):\n",
    "            # print(item['image_name'])\n",
    "            # print(str(item['image_name']).split(\".jpg\")[0] + \"_crop.jpg\")\n",
    "            image += [str(item['image_name']).split(\".jpg\")[0] + \"_crop.jpg\"]\n",
    "            pass\n",
    "        else:\n",
    "            image += [item['image_name']]\n",
    "        pass\n",
    "    # print(image)\n",
    "    collection.drop(columns='image_name')\n",
    "    collection['image_name'] = image\n",
    "    output = collection\n",
    "    return(output)"
   ]
  },
  {
   "cell_type": "code",
   "execution_count": null,
   "metadata": {},
   "outputs": [],
   "source": [
    "table = filter(table=table, doctor=['christine', \"leon\", 'dave', 'jack', 'eric'])"
   ]
  },
  {
   "cell_type": "markdown",
   "metadata": {},
   "source": [
    "##  可以統計醫師標記的數量。"
   ]
  },
  {
   "cell_type": "code",
   "execution_count": null,
   "metadata": {},
   "outputs": [],
   "source": [
    "# table.groupby()\n",
    "table['month'] = [str(i).split(\" \")[0][:-3] for i in table['create_time']]\n",
    "table.groupby(['month', 'dr', 'result']).count()\n",
    "#pandas.crosstab(table['month'], table['result'], table['dr']).to_csv(\"Doe-9月底數量.csv\")"
   ]
  },
  {
   "cell_type": "markdown",
   "metadata": {},
   "source": [
    "##  有發現一些資料的 prediction 值為空，會需要過濾掉。"
   ]
  },
  {
   "cell_type": "code",
   "execution_count": null,
   "metadata": {},
   "outputs": [],
   "source": [
    "table = table.loc[table['prediction']!=\"\"].copy()"
   ]
  },
  {
   "cell_type": "code",
   "execution_count": null,
   "metadata": {},
   "outputs": [],
   "source": [
    "print(table.shape[0])\n",
    "table.head()"
   ]
  },
  {
   "cell_type": "markdown",
   "metadata": {},
   "source": [
    "##  每個資料可能被一位或者多位醫師標記，以下針對各種情況分別處理：\n",
    "- 如果該資料只被一位醫師標記，其結果即代表真實標記\n",
    "- 如果該資料被兩位醫師標記，檢查是否一致，否則標記為「不知道」\n",
    "- 如果該資料被三位醫師標記，採用投票制。如果最多票為一票，代表三位醫師標記階不相同，標記為「不知道」。\n",
    "- （未加入）如果該資料被四位醫師標記，採用投票制。如果最多票為一票，代表四位醫師標記階不相同，標記為「不知道」；如果最多票跟最少票數量一樣皆為兩票，代表四位醫師中同時發生兩位醫師標記一致，標記為「不知道」。"
   ]
  },
  {
   "cell_type": "code",
   "execution_count": null,
   "metadata": {},
   "outputs": [],
   "source": [
    "table = table\n",
    "group = []\n",
    "for i in set(table['image_name']):  ##  根據圖片的名稱逐一挑選\n",
    "    item = table.loc[table['image_name']==i]\n",
    "    if(item.shape[0]==1):  ##  一位醫師標記\n",
    "        case = item.copy()           \n",
    "        case['vote_label'] = case['result']\n",
    "        group += [case]\n",
    "        pass\n",
    "    if(item.shape[0]==2):  ##  兩位醫師標記\n",
    "        case = item.copy()                          \n",
    "        result = case['result'].unique().tolist()\n",
    "        if(len(result)==1):  ##  兩位醫師標記一樣\n",
    "            case['vote_label'] = result[0]\n",
    "            case = case.iloc[-1:,:].copy()\n",
    "            group += [case]\n",
    "            pass\n",
    "        else:  ##  兩位醫師標記不一樣\n",
    "            case['vote_label'] = \"unknown\"\n",
    "            case = case.iloc[-1:,:].copy()\n",
    "            group += [case]\n",
    "            pass\n",
    "        pass\n",
    "    if(item.shape[0]==3):  ##  三位醫師標記\n",
    "        case = item.copy()\n",
    "        result, ticket = Counter(case['result']).most_common()[0]  ##  挑出最多票的結果以及票數\n",
    "        if(ticket>1):  ##  最多票大於 1 則代表有兩位醫師標記一樣\n",
    "            case['vote_label'] = result\n",
    "            case = case.iloc[-1:,:].copy()\n",
    "            group += [case]\n",
    "        else:  ##  最多票等於 1 代表三位醫師結果不同\n",
    "            case['vote_label'] = \"unknown\"\n",
    "            case = case.iloc[-1:,:].copy()\n",
    "            group += [case]\n",
    "        pass\n",
    "    if(item.shape[0]==4):\n",
    "        case = item.copy()\n",
    "        result, ticket = Counter(case['result']).most_common()[0]\n",
    "        if(ticket==4):  ##  最多票是 4 則代表四位醫師標記一樣\n",
    "            case['vote_label'] = result\n",
    "            case = case.iloc[-1:,:].copy()\n",
    "            group += [case]\n",
    "        else:\n",
    "            ##  處理四位醫師標記的其他可能。\n",
    "            print(\"請寫code處理四位醫師標記不一致的其他可能，當你看到這個訊息代表你被前面的人/自己挖坑了。\")\n",
    "        pass\n",
    "    pass\n",
    "\n",
    "group = pandas.concat(group).reset_index(drop=True)\n",
    "group.shape"
   ]
  },
  {
   "cell_type": "markdown",
   "metadata": {},
   "source": [
    "檢查`group`表中的圖片欄位的值是否有重複，有重複代表上面腳本有錯。"
   ]
  },
  {
   "cell_type": "code",
   "execution_count": null,
   "metadata": {},
   "outputs": [],
   "source": [
    "check = len(group['image_name'].unique()) == len(group)\n",
    "check"
   ]
  },
  {
   "cell_type": "code",
   "execution_count": null,
   "metadata": {},
   "outputs": [],
   "source": [
    "print(group.shape)\n",
    "group.head()"
   ]
  },
  {
   "cell_type": "code",
   "execution_count": null,
   "metadata": {},
   "outputs": [],
   "source": [
    "risk = group.loc[(group['vote_label']=='lower')|(group['vote_label']=='higher')]\n",
    "prediction = risk['prediction'].replace({\"Lower\":\"lower\", \"Higher\":\"higher\"}).copy()\n",
    "risk = risk.drop(columns=['prediction'])\n",
    "risk['prediction'] = prediction\n",
    "print(risk.shape)\n",
    "risk.head()"
   ]
  },
  {
   "cell_type": "markdown",
   "metadata": {},
   "source": [
    "標記的結果彙整"
   ]
  },
  {
   "cell_type": "code",
   "execution_count": null,
   "metadata": {},
   "outputs": [],
   "source": [
    "risk['vote_label'].value_counts()"
   ]
  },
  {
   "cell_type": "code",
   "execution_count": null,
   "metadata": {},
   "outputs": [],
   "source": [
    "risk['dataset'].value_counts()"
   ]
  },
  {
   "cell_type": "code",
   "execution_count": null,
   "metadata": {},
   "outputs": [],
   "source": [
    "##  字串統一轉成小寫\n",
    "vote = risk['vote_label'].str.lower().tolist().copy()\n",
    "prediction = risk['prediction'].str.lower().tolist().copy()\n",
    "risk = risk.drop(columns=['prediction', 'vote_label']).copy()\n",
    "risk['prediction'] = prediction\n",
    "risk['vote_label'] = vote"
   ]
  },
  {
   "cell_type": "markdown",
   "metadata": {},
   "source": [
    "##  與模型結果的比較"
   ]
  },
  {
   "cell_type": "code",
   "execution_count": null,
   "metadata": {},
   "outputs": [],
   "source": [
    "matrix = metrics.confusion_matrix(\n",
    "    y_true=risk['vote_label'],\n",
    "    y_pred=risk['prediction'],\n",
    "    labels=['higher', \"lower\"]\n",
    ")\n",
    "print(\"confusion matrix with true(row) and prediction(column)\")\n",
    "matrix"
   ]
  },
  {
   "cell_type": "markdown",
   "metadata": {},
   "source": [
    "##  AUC"
   ]
  },
  {
   "cell_type": "code",
   "execution_count": null,
   "metadata": {},
   "outputs": [],
   "source": [
    "roc_auc = sklearn.metrics.roc_auc_score(y_score=risk['score'], y_true=risk['vote_label'].replace({\"lower\":0, \"higher\":1}))\n",
    "roc_auc"
   ]
  },
  {
   "cell_type": "code",
   "execution_count": null,
   "metadata": {},
   "outputs": [],
   "source": [
    "fpr, tpr, threshold = sklearn.metrics.roc_curve(y_score=[float(i) for i in risk['score']], y_true = [float(i) for i in risk['vote_label'].replace({\"lower\":0, \"higher\":1})])\n",
    "plt.figure()\n",
    "lw = 2\n",
    "plt.plot(fpr, tpr, color='darkorange',\n",
    "         lw=lw, label='ROC curve (area = %0.2f)' % roc_auc)\n",
    "plt.plot([0, 1], [0, 1], color='navy', lw=lw, linestyle='--')\n",
    "plt.xlim([0.0, 1.0])\n",
    "plt.ylim([0.0, 1.05])\n",
    "plt.xlabel('False Positive Rate')\n",
    "plt.ylabel('True Positive Rate')\n",
    "plt.title('Receiver operating characteristic')\n",
    "plt.legend(loc=\"lower right\")\n",
    "plt.show()"
   ]
  },
  {
   "cell_type": "code",
   "execution_count": null,
   "metadata": {},
   "outputs": [],
   "source": [
    "pandas.DataFrame({\"FPR\":fpr, \"TPR\":tpr, \"Threshold\":threshold}).to_csv(\"cache.csv\", index=False)"
   ]
  },
  {
   "cell_type": "code",
   "execution_count": null,
   "metadata": {},
   "outputs": [],
   "source": [
    "accuracy = matrix.diagonal().sum() / matrix.sum()\n",
    "print(\"accuracy\")\n",
    "accuracy"
   ]
  },
  {
   "cell_type": "code",
   "execution_count": null,
   "metadata": {},
   "outputs": [],
   "source": [
    "print(\"tpr\")\n",
    "matrix[0,0] / matrix[0,:].sum()"
   ]
  },
  {
   "cell_type": "code",
   "execution_count": null,
   "metadata": {},
   "outputs": [],
   "source": [
    "print(\"tnr\")\n",
    "matrix[1,1] / matrix[1,:].sum()"
   ]
  },
  {
   "cell_type": "code",
   "execution_count": null,
   "metadata": {},
   "outputs": [],
   "source": [
    "print(\"ppv\")\n",
    "matrix[0,0] / matrix[:,0].sum()"
   ]
  },
  {
   "cell_type": "code",
   "execution_count": null,
   "metadata": {},
   "outputs": [],
   "source": [
    "print(\"npv\")\n",
    "matrix[1,1] / matrix[:,1].sum()"
   ]
  },
  {
   "cell_type": "code",
   "execution_count": null,
   "metadata": {},
   "outputs": [],
   "source": [
    "##  The client of database.\n",
    "connection = pymysql.connect(\n",
    "    host='dermai.clhzpxphx83l.ap-northeast-1.rds.amazonaws.com',\n",
    "    user='admin',\n",
    "    password='dermai_root_1234',\n",
    "    database='ai_tools'\n",
    ")\n",
    "query = \"SELECT * FROM `moleme`;\"\n",
    "table = pandas.read_sql(query, connection)[['user_id', 'timestamp', 'image', 'image_crop', 'mole_size', \"period\", \"change\", \"gender\", \"age\"]]\n",
    "table['mole_size'] = table['mole_size'].replace({\"0\":\"有\",\"1\":\"沒有\"})\n",
    "table['change'] = table['change'].replace({\"0\":\"有\",\"1\":\"沒有\",\"2\":\"不確定\"})\n",
    "table['gender'] = table['gender'].replace({\"0\":\"男性\", \"1\":\"女性\",\"2\":\"不想回答\"})\n",
    "table['age'] = table['age'].replace({\"0\":\"21歲以下\",\"1\":\"21~40歲\", \"2\":\"41~65歲\", \"3\":\"65歲以上\"})\n",
    "table['period'] = table['period'].replace({\"0\":\"一個月內\",'1':\"1個月~1年\", \"2\":\"一年以上\",\"3\":\"不記得\"})\n",
    "table_askin = table\n",
    "print(table_askin.shape)\n",
    "table_askin.head()"
   ]
  },
  {
   "cell_type": "code",
   "execution_count": null,
   "metadata": {},
   "outputs": [],
   "source": [
    "##  The client of database.\n",
    "connection = pymysql.connect(\n",
    "    host='dermai.clhzpxphx83l.ap-northeast-1.rds.amazonaws.com',\n",
    "    user='admin',\n",
    "    password='dermai_root_1234',\n",
    "    database='molecheck'\n",
    ")\n",
    "query = \"SELECT * FROM `new_moledata`;\"\n",
    "table = pandas.read_sql(query, connection)[['user_id', 'timestamp', 'image', 'image_crop', 'mole_size', \"period\", \"change\", \"gender\", \"age\"]]\n",
    "table_oa = table\n",
    "print(table_oa.shape)\n",
    "table_oa.head()"
   ]
  },
  {
   "cell_type": "code",
   "execution_count": null,
   "metadata": {},
   "outputs": [],
   "source": [
    "mole_size = []\n",
    "period = []\n",
    "change = []\n",
    "gender = []\n",
    "age = []\n",
    "for index, i in enumerate(risk['image_name']):\n",
    "    # i = risk['image_name'][0]\n",
    "    item = table_oa.loc[table['image_crop']==i]\n",
    "    if(item.shape[0]==1):\n",
    "        mole_size += [item['mole_size'].item()]\n",
    "        period += [item['period'].item()]\n",
    "        change += [item['change'].item()]\n",
    "        gender += [item['gender'].item()]\n",
    "        age += [item['age'].item()]\n",
    "        pass\n",
    "    else:\n",
    "        item = table_askin.loc[table['image_crop']==i]\n",
    "        if(item.shape[0]==1):\n",
    "            mole_size += [item['mole_size'].item()]\n",
    "            period += [item['period'].item()]\n",
    "            change += [item['change'].item()]\n",
    "            gender += [item['gender'].item()]\n",
    "            age += [item['age'].item()]\n",
    "            pass        \n",
    "        else:\n",
    "            print(i)\n",
    "            print(item)\n",
    "            print(\"找不到資料或找到多筆\")\n",
    "            break\n",
    "            pass\n",
    "        pass\n",
    "    pass"
   ]
  },
  {
   "cell_type": "code",
   "execution_count": null,
   "metadata": {},
   "outputs": [],
   "source": [
    "len(mole_size)"
   ]
  },
  {
   "cell_type": "code",
   "execution_count": null,
   "metadata": {},
   "outputs": [],
   "source": [
    "risk.head()"
   ]
  },
  {
   "cell_type": "code",
   "execution_count": null,
   "metadata": {},
   "outputs": [],
   "source": []
  },
  {
   "cell_type": "markdown",
   "metadata": {},
   "source": [
    "##  暫存步驟，上述有兩張表相對重要，`group`表存放了醫師標記的所有結果，`risk`表存放了醫師標記高風險以及低風險的表。"
   ]
  },
  {
   "cell_type": "code",
   "execution_count": null,
   "metadata": {},
   "outputs": [],
   "source": [
    "group.to_csv(\"moleme-group.csv\", index=False)\n",
    "risk.to_csv(\"moleme-risk.csv\", index=False)"
   ]
  },
  {
   "cell_type": "markdown",
   "metadata": {},
   "source": [
    "##  後續微調模型會需要輸入使用者的問題，根據圖片去進行資料彙整，用戶變數來源有兩張表（ASKiN以及OA），但是表的結構不同，需要分別整理，再統一。"
   ]
  },
  {
   "cell_type": "markdown",
   "metadata": {},
   "source": [
    "OA表擷取"
   ]
  },
  {
   "cell_type": "code",
   "execution_count": null,
   "metadata": {},
   "outputs": [],
   "source": [
    "##  The client of database.\n",
    "connection = pymysql.connect(\n",
    "    host='dermai.clhzpxphx83l.ap-northeast-1.rds.amazonaws.com',\n",
    "    user='admin',\n",
    "    password='dermai_root_1234',\n",
    "    database='molecheck'\n",
    ")\n",
    "query = \"SELECT * FROM `new_moledata`;\"\n",
    "table = pandas.read_sql(query, connection)[['user_id', 'timestamp', 'image', 'image_crop', 'mole_size', \"period\", \"change\", \"gender\", \"age\"]]"
   ]
  },
  {
   "cell_type": "code",
   "execution_count": null,
   "metadata": {},
   "outputs": [],
   "source": [
    "risk = pandas.read_csv(\"moleme-risk.csv\")\n",
    "group = []\n",
    "for iteration, item in risk.iterrows():\n",
    "    choose = table.loc[table['image_crop']==item['image_name']].copy()\n",
    "    if(choose.shape[0]==1):\n",
    "        choose['vote_label'] = item['vote_label']\n",
    "        choose['dataset'] = item['dataset']\n",
    "        choose['prediction'] = item['prediction']\n",
    "        choose['score'] = item['score']\n",
    "        group += [choose]\n",
    "    elif(choose.shape[0]==0):\n",
    "        continue\n",
    "    else:\n",
    "        choose = choose.iloc[-1:,:].copy()\n",
    "        choose['vote_label'] = item['vote_label']\n",
    "        choose['dataset'] = item['dataset']\n",
    "        choose['prediction'] = item['prediction']\n",
    "        choose['score'] = item['score']\n",
    "        group += [choose]\n",
    "    pass\n",
    "group = pandas.concat(group)\n",
    "oa = group.copy()\n",
    "print(oa.shape[0])\n",
    "oa.head()"
   ]
  },
  {
   "cell_type": "markdown",
   "metadata": {},
   "source": [
    "ASKiN表擷取"
   ]
  },
  {
   "cell_type": "code",
   "execution_count": null,
   "metadata": {},
   "outputs": [],
   "source": [
    "##  The client of database.\n",
    "connection = pymysql.connect(\n",
    "    host='dermai.clhzpxphx83l.ap-northeast-1.rds.amazonaws.com',\n",
    "    user='admin',\n",
    "    password='dermai_root_1234',\n",
    "    database='ai_tools'\n",
    ")\n",
    "query = \"SELECT * FROM `moleme`;\"\n",
    "table = pandas.read_sql(query, connection)[['user_id', 'timestamp', 'image', 'image_crop', 'mole_size', \"period\", \"change\", \"gender\", \"age\"]]\n",
    "table['mole_size'] = table['mole_size'].replace({\"0\":\"有\",\"1\":\"沒有\"})\n",
    "table['change'] = table['change'].replace({\"0\":\"有\",\"1\":\"沒有\",\"2\":\"不確定\"})\n",
    "table['gender'] = table['gender'].replace({\"0\":\"男性\", \"1\":\"女性\",\"2\":\"不想回答\"})\n",
    "table['age'] = table['age'].replace({\"0\":\"21歲以下\",\"1\":\"21~40歲\", \"2\":\"41~65歲\", \"3\":\"65歲以上\"})\n",
    "table['period'] = table['period'].replace({\"0\":\"一個月內\",'1':\"1個月~1年\", \"2\":\"一年以上\",\"3\":\"不記得\"})\n",
    "print(table.shape[0])\n",
    "table.head()"
   ]
  },
  {
   "cell_type": "code",
   "execution_count": null,
   "metadata": {},
   "outputs": [],
   "source": [
    "risk = pandas.read_csv(\"moleme-risk.csv\")\n",
    "group = []\n",
    "for iteration, item in risk.iterrows():\n",
    "    if(item['dataset']=='MoleMe'):\n",
    "        choose = table.loc[table['image_crop']==item['image_name']].copy()\n",
    "        if(choose.shape[0]==1):\n",
    "            choose['vote_label'] = item['vote_label']\n",
    "            choose['dataset'] = item['dataset']\n",
    "            choose['prediction'] = item['prediction']\n",
    "            choose['score'] = item['score']\n",
    "            group += [choose]\n",
    "        elif(choose.shape[0]==0):\n",
    "            # print(item['dataset'])\n",
    "            continue\n",
    "        else:\n",
    "            choose = choose.iloc[-1:,:].copy()\n",
    "            choose['vote_label'] = item['vote_label']\n",
    "            choose['dataset'] = item['dataset']\n",
    "            choose['prediction'] = item['prediction']\n",
    "            choose['score'] = item['score']\n",
    "            group += [choose]\n",
    "        pass\n",
    "    pass\n",
    "group = pandas.concat(group)\n",
    "askin = group\n",
    "print(askin.shape[0])\n",
    "askin.head()"
   ]
  },
  {
   "cell_type": "markdown",
   "metadata": {},
   "source": [
    "##  總和必須跟先前一致，否則代表中間有錯誤，需要回頭檢視問題。"
   ]
  },
  {
   "cell_type": "code",
   "execution_count": null,
   "metadata": {},
   "outputs": [],
   "source": [
    "askin.shape[0] + oa.shape[0]"
   ]
  },
  {
   "cell_type": "code",
   "execution_count": null,
   "metadata": {},
   "outputs": [],
   "source": [
    "table = pandas.concat([askin, oa])\n",
    "table.head()"
   ]
  },
  {
   "cell_type": "markdown",
   "metadata": {},
   "source": [
    "##  表中的用戶問題特徵，OA跟ASKiN兩表中的值不一致，統一整理。"
   ]
  },
  {
   "cell_type": "code",
   "execution_count": null,
   "metadata": {},
   "outputs": [],
   "source": [
    "table['mole_size'] = table['mole_size'].replace({\"有\":\"yes\", \"沒有\":\"no\"})\n",
    "set(table['mole_size'])"
   ]
  },
  {
   "cell_type": "code",
   "execution_count": null,
   "metadata": {},
   "outputs": [],
   "source": [
    "table['age'] = table['age'].replace({\"40~65歲\":\"41~65歲\"})\n",
    "set(table['age'])"
   ]
  },
  {
   "cell_type": "code",
   "execution_count": null,
   "metadata": {},
   "outputs": [],
   "source": [
    "table['period'] = table['period'].replace({\"1個月內\":\"一個月內\", \"1個月～1年\":\"1個月~1年\",\"1年以上\":\"一年以上\"})\n",
    "set(table['period'])"
   ]
  },
  {
   "cell_type": "code",
   "execution_count": null,
   "metadata": {},
   "outputs": [],
   "source": [
    "table['change'] = table['change'].replace({\"不確定\":\"不記得\",\"有變化\":\"有\", \"無變化\":\"沒有\"})\n",
    "set(table['change'])"
   ]
  },
  {
   "cell_type": "code",
   "execution_count": null,
   "metadata": {},
   "outputs": [],
   "source": [
    "set(table['gender'])"
   ]
  },
  {
   "cell_type": "code",
   "execution_count": null,
   "metadata": {},
   "outputs": [],
   "source": [
    "set(table['prediction'])"
   ]
  },
  {
   "cell_type": "code",
   "execution_count": null,
   "metadata": {},
   "outputs": [],
   "source": [
    "set(table['vote_label'])"
   ]
  },
  {
   "cell_type": "markdown",
   "metadata": {},
   "source": [
    "##  暫存步驟，上述產生的表相對重要，其中彙整了來自OA以及ASKiN的用戶回答特徵，並且針對問題特徵中同義但不同值的部份進行了統一，存成檔名為`data.csv`。"
   ]
  },
  {
   "cell_type": "code",
   "execution_count": null,
   "metadata": {},
   "outputs": [],
   "source": [
    "table.to_csv(\"data.csv\", index=False)"
   ]
  },
  {
   "cell_type": "markdown",
   "metadata": {},
   "source": [
    "##  根據整理好的表來下載圖片（連結之後會更動），會需要些時間。\n",
    "- moleme_media_url = \"https://reservation.dermai.com.tw/static/media/data/mole/\"\n",
    "- moleme_oa_media_url = \"https://oldmoleme.dermai.com.tw/static/data/\""
   ]
  },
  {
   "cell_type": "code",
   "execution_count": null,
   "metadata": {},
   "outputs": [],
   "source": [
    "import requests, pandas\n",
    "from PIL import Image\n",
    "from io import BytesIO\n",
    "import tqdm\n",
    "import os "
   ]
  },
  {
   "cell_type": "code",
   "execution_count": null,
   "metadata": {},
   "outputs": [],
   "source": [
    "import requests, pandas\n",
    "from PIL import Image\n",
    "from io import BytesIO\n",
    "import tqdm\n",
    "import os \n",
    "table = pandas.read_csv('data.csv')\n",
    "url = [\"https://reservation.dermai.com.tw/static/media/data/mole/\", \"https://oldmoleme.dermai.com.tw/static/data/\"]\n",
    "for iteration, item in tqdm.tqdm(table.iterrows(), total=len(table)):\n",
    "    try:\n",
    "        source = requests.get(url[0]+item['image_crop'])\n",
    "        image = Image.open(BytesIO(source.content))\n",
    "    except:\n",
    "        source = requests.get(url[1]+item['image_crop'])\n",
    "        image = Image.open(BytesIO(source.content))\n",
    "    pass\n",
    "    os.makedirs(item['vote_label'], exist_ok=True)\n",
    "    image.save(os.path.join(item['vote_label'], item['image_crop']))\n",
    "    pass"
   ]
  },
  {
   "cell_type": "markdown",
   "metadata": {},
   "source": [
    "##  總結，該腳本負責產出MoleMe訓練及測試所使用的資料集，包含`data(CSV檔)`以及`lower & higher(圖片資料夾)`，其餘都不重要。"
   ]
  }
 ],
 "metadata": {
  "interpreter": {
   "hash": "4cccc9253a97be6bfa179811742e359441dab23dea9b85717016d6b8ba8b672c"
  },
  "kernelspec": {
   "display_name": "Python 3.7.11 64-bit ('kaggle': conda)",
   "name": "python3"
  },
  "language_info": {
   "codemirror_mode": {
    "name": "ipython",
    "version": 3
   },
   "file_extension": ".py",
   "mimetype": "text/x-python",
   "name": "python",
   "nbconvert_exporter": "python",
   "pygments_lexer": "ipython3",
   "version": "3.7.11"
  },
  "orig_nbformat": 4
 },
 "nbformat": 4,
 "nbformat_minor": 2
}
